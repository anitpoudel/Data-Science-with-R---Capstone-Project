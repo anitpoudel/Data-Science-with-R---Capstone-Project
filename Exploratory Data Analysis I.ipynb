{
 "cells": [
  {
   "cell_type": "code",
   "execution_count": 32,
   "id": "842f248c-fb71-4d07-b1a1-4b0b009f4a8d",
   "metadata": {},
   "outputs": [
    {
     "name": "stdout",
     "output_type": "stream",
     "text": [
      "\n",
      "The downloaded binary packages are in\n",
      "\t/var/folders/wy/f2g87lw121qf8pt2k7_d4ysr0000gn/T//Rtmph3nqp4/downloaded_packages\n"
     ]
    }
   ],
   "source": [
    "install.packages(\"RSQLite\")"
   ]
  },
  {
   "cell_type": "code",
   "execution_count": 33,
   "id": "b805622b-3262-40d5-8a48-5c8128e30779",
   "metadata": {},
   "outputs": [],
   "source": [
    "library(RSQLite)\n",
    "\n",
    "con <- dbConnect(SQLite(), \":memory:\")\n"
   ]
  },
  {
   "cell_type": "code",
   "execution_count": 34,
   "id": "85ebb220-9f51-4984-b940-b6a9e2688af1",
   "metadata": {},
   "outputs": [],
   "source": [
    "library(tidyverse)"
   ]
  },
  {
   "cell_type": "code",
   "execution_count": 35,
   "id": "34d2345c-043c-48e3-9820-f691328807c6",
   "metadata": {},
   "outputs": [
    {
     "name": "stderr",
     "output_type": "stream",
     "text": [
      "\u001b[1mRows: \u001b[22m\u001b[34m8465\u001b[39m \u001b[1mColumns: \u001b[22m\u001b[34m14\u001b[39m\n",
      "\u001b[36m──\u001b[39m \u001b[1mColumn specification\u001b[22m \u001b[36m────────────────────────────────────────────────────────\u001b[39m\n",
      "\u001b[1mDelimiter:\u001b[22m \",\"\n",
      "\u001b[31mchr\u001b[39m  (4): DATE, SEASONS, HOLIDAY, FUNCTIONING_DAY\n",
      "\u001b[32mdbl\u001b[39m (10): RENTED_BIKE_COUNT, HOUR, TEMPERATURE, HUMIDITY, WIND_SPEED, VISIBI...\n",
      "\n",
      "\u001b[36mℹ\u001b[39m Use `spec()` to retrieve the full column specification for this data.\n",
      "\u001b[36mℹ\u001b[39m Specify the column types or set `show_col_types = FALSE` to quiet this message.\n",
      "\u001b[1mRows: \u001b[22m\u001b[34m160\u001b[39m \u001b[1mColumns: \u001b[22m\u001b[34m12\u001b[39m\n",
      "\u001b[36m──\u001b[39m \u001b[1mColumn specification\u001b[22m \u001b[36m────────────────────────────────────────────────────────\u001b[39m\n",
      "\u001b[1mDelimiter:\u001b[22m \",\"\n",
      "\u001b[31mchr\u001b[39m  (3): CITY, WEATHER, SEASON\n",
      "\u001b[32mdbl\u001b[39m  (8): VISIBILITY, TEMP, TEMP_MIN, TEMP_MAX, PRESSURE, HUMIDITY, WIND_SPE...\n",
      "\u001b[34mdttm\u001b[39m (1): FORECAST_DATETIME\n",
      "\n",
      "\u001b[36mℹ\u001b[39m Use `spec()` to retrieve the full column specification for this data.\n",
      "\u001b[36mℹ\u001b[39m Specify the column types or set `show_col_types = FALSE` to quiet this message.\n",
      "\u001b[1mRows: \u001b[22m\u001b[34m480\u001b[39m \u001b[1mColumns: \u001b[22m\u001b[34m4\u001b[39m\n",
      "\u001b[36m──\u001b[39m \u001b[1mColumn specification\u001b[22m \u001b[36m────────────────────────────────────────────────────────\u001b[39m\n",
      "\u001b[1mDelimiter:\u001b[22m \",\"\n",
      "\u001b[31mchr\u001b[39m (3): COUNTRY, CITY, SYSTEM\n",
      "\u001b[32mdbl\u001b[39m (1): BICYCLES\n",
      "\n",
      "\u001b[36mℹ\u001b[39m Use `spec()` to retrieve the full column specification for this data.\n",
      "\u001b[36mℹ\u001b[39m Specify the column types or set `show_col_types = FALSE` to quiet this message.\n",
      "\u001b[1mRows: \u001b[22m\u001b[34m26569\u001b[39m \u001b[1mColumns: \u001b[22m\u001b[34m11\u001b[39m\n",
      "\u001b[36m──\u001b[39m \u001b[1mColumn specification\u001b[22m \u001b[36m────────────────────────────────────────────────────────\u001b[39m\n",
      "\u001b[1mDelimiter:\u001b[22m \",\"\n",
      "\u001b[31mchr\u001b[39m (7): CITY, CITY_ASCII, COUNTRY, ISO2, ISO3, ADMIN_NAME, CAPITAL\n",
      "\u001b[32mdbl\u001b[39m (4): LAT, LNG, POPULATION, ID\n",
      "\n",
      "\u001b[36mℹ\u001b[39m Use `spec()` to retrieve the full column specification for this data.\n",
      "\u001b[36mℹ\u001b[39m Specify the column types or set `show_col_types = FALSE` to quiet this message.\n"
     ]
    }
   ],
   "source": [
    "# Load CSVs\n",
    "seoul_bike <- read_csv(\"seoul_bike_sharing.csv\")\n",
    "cities_weather <- read_csv(\"cities_weather_forecast.csv\")\n",
    "bike_systems <- read_csv(\"bike_sharing_systems.csv\")\n",
    "world_cities <- read_csv(\"world_cities.csv\")\n",
    "\n",
    "# Write to SQLite tables\n",
    "dbWriteTable(con, \"seoul_bike_sharing\", seoul_bike)\n",
    "dbWriteTable(con, \"cities_weather_forecast\", cities_weather)\n",
    "dbWriteTable(con, \"bike_sharing_systems\", bike_systems)\n",
    "dbWriteTable(con, \"world_cities\", world_cities)\n"
   ]
  },
  {
   "cell_type": "code",
   "execution_count": 36,
   "id": "702fcebe-d763-47fb-954f-9666d6645f71",
   "metadata": {},
   "outputs": [
    {
     "data": {
      "text/html": [
       "<table class=\"dataframe\">\n",
       "<caption>A data.frame: 1 × 1</caption>\n",
       "<thead>\n",
       "\t<tr><th scope=col>COUNT(*)</th></tr>\n",
       "\t<tr><th scope=col>&lt;int&gt;</th></tr>\n",
       "</thead>\n",
       "<tbody>\n",
       "\t<tr><td>8465</td></tr>\n",
       "</tbody>\n",
       "</table>\n"
      ],
      "text/latex": [
       "A data.frame: 1 × 1\n",
       "\\begin{tabular}{l}\n",
       " COUNT(*)\\\\\n",
       " <int>\\\\\n",
       "\\hline\n",
       "\t 8465\\\\\n",
       "\\end{tabular}\n"
      ],
      "text/markdown": [
       "\n",
       "A data.frame: 1 × 1\n",
       "\n",
       "| COUNT(*) &lt;int&gt; |\n",
       "|---|\n",
       "| 8465 |\n",
       "\n"
      ],
      "text/plain": [
       "  COUNT(*)\n",
       "1 8465    "
      ]
     },
     "metadata": {},
     "output_type": "display_data"
    }
   ],
   "source": [
    "library(DBI)\n",
    "dbGetQuery(con, \"SELECT COUNT(*) FROM seoul_bike_sharing\")\n"
   ]
  },
  {
   "cell_type": "code",
   "execution_count": 37,
   "id": "79052c97-9ab3-469e-9336-cd0110379667",
   "metadata": {},
   "outputs": [
    {
     "data": {
      "text/html": [
       "<table class=\"dataframe\">\n",
       "<caption>A data.frame: 1 × 1</caption>\n",
       "<thead>\n",
       "\t<tr><th scope=col>non_zero_hours</th></tr>\n",
       "\t<tr><th scope=col>&lt;int&gt;</th></tr>\n",
       "</thead>\n",
       "<tbody>\n",
       "\t<tr><td>8465</td></tr>\n",
       "</tbody>\n",
       "</table>\n"
      ],
      "text/latex": [
       "A data.frame: 1 × 1\n",
       "\\begin{tabular}{l}\n",
       " non\\_zero\\_hours\\\\\n",
       " <int>\\\\\n",
       "\\hline\n",
       "\t 8465\\\\\n",
       "\\end{tabular}\n"
      ],
      "text/markdown": [
       "\n",
       "A data.frame: 1 × 1\n",
       "\n",
       "| non_zero_hours &lt;int&gt; |\n",
       "|---|\n",
       "| 8465 |\n",
       "\n"
      ],
      "text/plain": [
       "  non_zero_hours\n",
       "1 8465          "
      ]
     },
     "metadata": {},
     "output_type": "display_data"
    }
   ],
   "source": [
    "dbGetQuery(con, \"\n",
    "  SELECT COUNT(*) AS non_zero_hours\n",
    "  FROM seoul_bike_sharing\n",
    "  WHERE rented_bike_count > 0\n",
    "\")\n"
   ]
  },
  {
   "cell_type": "code",
   "execution_count": 38,
   "id": "bc9e0527-43e9-4677-a40d-382647f048e6",
   "metadata": {},
   "outputs": [
    {
     "data": {
      "text/html": [
       "<table class=\"dataframe\">\n",
       "<caption>A data.frame: 1 × 12</caption>\n",
       "<thead>\n",
       "\t<tr><th scope=col>CITY</th><th scope=col>WEATHER</th><th scope=col>VISIBILITY</th><th scope=col>TEMP</th><th scope=col>TEMP_MIN</th><th scope=col>TEMP_MAX</th><th scope=col>PRESSURE</th><th scope=col>HUMIDITY</th><th scope=col>WIND_SPEED</th><th scope=col>WIND_DEG</th><th scope=col>SEASON</th><th scope=col>FORECAST_DATETIME</th></tr>\n",
       "\t<tr><th scope=col>&lt;chr&gt;</th><th scope=col>&lt;chr&gt;</th><th scope=col>&lt;dbl&gt;</th><th scope=col>&lt;dbl&gt;</th><th scope=col>&lt;dbl&gt;</th><th scope=col>&lt;dbl&gt;</th><th scope=col>&lt;dbl&gt;</th><th scope=col>&lt;dbl&gt;</th><th scope=col>&lt;dbl&gt;</th><th scope=col>&lt;dbl&gt;</th><th scope=col>&lt;chr&gt;</th><th scope=col>&lt;dbl&gt;</th></tr>\n",
       "</thead>\n",
       "<tbody>\n",
       "\t<tr><td>Seoul</td><td>Clear</td><td>10000</td><td>12.32</td><td>10.91</td><td>12.32</td><td>1015</td><td>50</td><td>2.18</td><td>248</td><td>Spring</td><td>1618574400</td></tr>\n",
       "</tbody>\n",
       "</table>\n"
      ],
      "text/latex": [
       "A data.frame: 1 × 12\n",
       "\\begin{tabular}{llllllllllll}\n",
       " CITY & WEATHER & VISIBILITY & TEMP & TEMP\\_MIN & TEMP\\_MAX & PRESSURE & HUMIDITY & WIND\\_SPEED & WIND\\_DEG & SEASON & FORECAST\\_DATETIME\\\\\n",
       " <chr> & <chr> & <dbl> & <dbl> & <dbl> & <dbl> & <dbl> & <dbl> & <dbl> & <dbl> & <chr> & <dbl>\\\\\n",
       "\\hline\n",
       "\t Seoul & Clear & 10000 & 12.32 & 10.91 & 12.32 & 1015 & 50 & 2.18 & 248 & Spring & 1618574400\\\\\n",
       "\\end{tabular}\n"
      ],
      "text/markdown": [
       "\n",
       "A data.frame: 1 × 12\n",
       "\n",
       "| CITY &lt;chr&gt; | WEATHER &lt;chr&gt; | VISIBILITY &lt;dbl&gt; | TEMP &lt;dbl&gt; | TEMP_MIN &lt;dbl&gt; | TEMP_MAX &lt;dbl&gt; | PRESSURE &lt;dbl&gt; | HUMIDITY &lt;dbl&gt; | WIND_SPEED &lt;dbl&gt; | WIND_DEG &lt;dbl&gt; | SEASON &lt;chr&gt; | FORECAST_DATETIME &lt;dbl&gt; |\n",
       "|---|---|---|---|---|---|---|---|---|---|---|---|\n",
       "| Seoul | Clear | 10000 | 12.32 | 10.91 | 12.32 | 1015 | 50 | 2.18 | 248 | Spring | 1618574400 |\n",
       "\n"
      ],
      "text/plain": [
       "  CITY  WEATHER VISIBILITY TEMP  TEMP_MIN TEMP_MAX PRESSURE HUMIDITY WIND_SPEED\n",
       "1 Seoul Clear   10000      12.32 10.91    12.32    1015     50       2.18      \n",
       "  WIND_DEG SEASON FORECAST_DATETIME\n",
       "1 248      Spring 1618574400       "
      ]
     },
     "metadata": {},
     "output_type": "display_data"
    }
   ],
   "source": [
    "dbGetQuery(con, \"\n",
    "  SELECT *\n",
    "  FROM cities_weather_forecast\n",
    "  WHERE CITY = 'Seoul'\n",
    "  ORDER BY FORECAST_DATETIME\n",
    "  LIMIT 1\n",
    "\")\n",
    "\n"
   ]
  },
  {
   "cell_type": "code",
   "execution_count": 39,
   "id": "a949cc31-3ca1-4b25-9329-feb397d8fc43",
   "metadata": {},
   "outputs": [
    {
     "data": {
      "text/html": [
       "<table class=\"dataframe\">\n",
       "<caption>A data.frame: 4 × 1</caption>\n",
       "<thead>\n",
       "\t<tr><th scope=col>SEASONS</th></tr>\n",
       "\t<tr><th scope=col>&lt;chr&gt;</th></tr>\n",
       "</thead>\n",
       "<tbody>\n",
       "\t<tr><td>Winter</td></tr>\n",
       "\t<tr><td>Spring</td></tr>\n",
       "\t<tr><td>Summer</td></tr>\n",
       "\t<tr><td>Autumn</td></tr>\n",
       "</tbody>\n",
       "</table>\n"
      ],
      "text/latex": [
       "A data.frame: 4 × 1\n",
       "\\begin{tabular}{l}\n",
       " SEASONS\\\\\n",
       " <chr>\\\\\n",
       "\\hline\n",
       "\t Winter\\\\\n",
       "\t Spring\\\\\n",
       "\t Summer\\\\\n",
       "\t Autumn\\\\\n",
       "\\end{tabular}\n"
      ],
      "text/markdown": [
       "\n",
       "A data.frame: 4 × 1\n",
       "\n",
       "| SEASONS &lt;chr&gt; |\n",
       "|---|\n",
       "| Winter |\n",
       "| Spring |\n",
       "| Summer |\n",
       "| Autumn |\n",
       "\n"
      ],
      "text/plain": [
       "  SEASONS\n",
       "1 Winter \n",
       "2 Spring \n",
       "3 Summer \n",
       "4 Autumn "
      ]
     },
     "metadata": {},
     "output_type": "display_data"
    }
   ],
   "source": [
    "dbGetQuery(con, \"\n",
    "  SELECT DISTINCT SEASONS\n",
    "  FROM seoul_bike_sharing\n",
    "\")\n"
   ]
  },
  {
   "cell_type": "code",
   "execution_count": 41,
   "id": "c2d41e6f-53a7-46d7-97da-08f111b39d7c",
   "metadata": {},
   "outputs": [
    {
     "data": {
      "text/html": [
       "<table class=\"dataframe\">\n",
       "<caption>A data.frame: 1 × 2</caption>\n",
       "<thead>\n",
       "\t<tr><th scope=col>first_date</th><th scope=col>last_date</th></tr>\n",
       "\t<tr><th scope=col>&lt;chr&gt;</th><th scope=col>&lt;chr&gt;</th></tr>\n",
       "</thead>\n",
       "<tbody>\n",
       "\t<tr><td>2017-12-01</td><td>2018-11-30</td></tr>\n",
       "</tbody>\n",
       "</table>\n"
      ],
      "text/latex": [
       "A data.frame: 1 × 2\n",
       "\\begin{tabular}{ll}\n",
       " first\\_date & last\\_date\\\\\n",
       " <chr> & <chr>\\\\\n",
       "\\hline\n",
       "\t 2017-12-01 & 2018-11-30\\\\\n",
       "\\end{tabular}\n"
      ],
      "text/markdown": [
       "\n",
       "A data.frame: 1 × 2\n",
       "\n",
       "| first_date &lt;chr&gt; | last_date &lt;chr&gt; |\n",
       "|---|---|\n",
       "| 2017-12-01 | 2018-11-30 |\n",
       "\n"
      ],
      "text/plain": [
       "  first_date last_date \n",
       "1 2017-12-01 2018-11-30"
      ]
     },
     "metadata": {},
     "output_type": "display_data"
    }
   ],
   "source": [
    "dbGetQuery(con, \"\n",
    "  SELECT \n",
    "    MIN(substr(DATE, 7, 4) || '-' || substr(DATE, 4, 2) || '-' || substr(DATE, 1, 2)) AS first_date,\n",
    "    MAX(substr(DATE, 7, 4) || '-' || substr(DATE, 4, 2) || '-' || substr(DATE, 1, 2)) AS last_date\n",
    "  FROM seoul_bike_sharing\n",
    "\")\n",
    "\n"
   ]
  },
  {
   "cell_type": "code",
   "execution_count": 42,
   "id": "080282b1-bc25-4af0-ba74-7d4af7734f1c",
   "metadata": {},
   "outputs": [
    {
     "data": {
      "text/html": [
       "<table class=\"dataframe\">\n",
       "<caption>A data.frame: 1 × 3</caption>\n",
       "<thead>\n",
       "\t<tr><th scope=col>DATE</th><th scope=col>HOUR</th><th scope=col>RENTED_BIKE_COUNT</th></tr>\n",
       "\t<tr><th scope=col>&lt;chr&gt;</th><th scope=col>&lt;dbl&gt;</th><th scope=col>&lt;dbl&gt;</th></tr>\n",
       "</thead>\n",
       "<tbody>\n",
       "\t<tr><td>19/06/2018</td><td>18</td><td>3556</td></tr>\n",
       "</tbody>\n",
       "</table>\n"
      ],
      "text/latex": [
       "A data.frame: 1 × 3\n",
       "\\begin{tabular}{lll}\n",
       " DATE & HOUR & RENTED\\_BIKE\\_COUNT\\\\\n",
       " <chr> & <dbl> & <dbl>\\\\\n",
       "\\hline\n",
       "\t 19/06/2018 & 18 & 3556\\\\\n",
       "\\end{tabular}\n"
      ],
      "text/markdown": [
       "\n",
       "A data.frame: 1 × 3\n",
       "\n",
       "| DATE &lt;chr&gt; | HOUR &lt;dbl&gt; | RENTED_BIKE_COUNT &lt;dbl&gt; |\n",
       "|---|---|---|\n",
       "| 19/06/2018 | 18 | 3556 |\n",
       "\n"
      ],
      "text/plain": [
       "  DATE       HOUR RENTED_BIKE_COUNT\n",
       "1 19/06/2018 18   3556             "
      ]
     },
     "metadata": {},
     "output_type": "display_data"
    }
   ],
   "source": [
    "dbGetQuery(con, \"\n",
    "  SELECT DATE, HOUR, RENTED_BIKE_COUNT\n",
    "  FROM seoul_bike_sharing\n",
    "  WHERE RENTED_BIKE_COUNT = (\n",
    "    SELECT MAX(RENTED_BIKE_COUNT) FROM seoul_bike_sharing\n",
    "  )\n",
    "\")\n"
   ]
  },
  {
   "cell_type": "code",
   "execution_count": 43,
   "id": "08c541c2-4e12-4aaf-bd96-5d77bb7302aa",
   "metadata": {},
   "outputs": [
    {
     "data": {
      "text/html": [
       "<table class=\"dataframe\">\n",
       "<caption>A data.frame: 10 × 4</caption>\n",
       "<thead>\n",
       "\t<tr><th scope=col>season</th><th scope=col>hour</th><th scope=col>avg_temperature</th><th scope=col>avg_bike_rentals</th></tr>\n",
       "\t<tr><th scope=col>&lt;chr&gt;</th><th scope=col>&lt;dbl&gt;</th><th scope=col>&lt;dbl&gt;</th><th scope=col>&lt;dbl&gt;</th></tr>\n",
       "</thead>\n",
       "<tbody>\n",
       "\t<tr><td>Summer</td><td>18</td><td>29.38791</td><td>2135.141</td></tr>\n",
       "\t<tr><td>Autumn</td><td>18</td><td>16.03185</td><td>1983.333</td></tr>\n",
       "\t<tr><td>Summer</td><td>19</td><td>28.27378</td><td>1889.250</td></tr>\n",
       "\t<tr><td>Summer</td><td>20</td><td>27.06630</td><td>1801.924</td></tr>\n",
       "\t<tr><td>Summer</td><td>21</td><td>26.27826</td><td>1754.065</td></tr>\n",
       "\t<tr><td>Spring</td><td>18</td><td>15.97222</td><td>1689.311</td></tr>\n",
       "\t<tr><td>Summer</td><td>22</td><td>25.69891</td><td>1567.870</td></tr>\n",
       "\t<tr><td>Autumn</td><td>17</td><td>17.27778</td><td>1562.877</td></tr>\n",
       "\t<tr><td>Summer</td><td>17</td><td>30.07691</td><td>1526.293</td></tr>\n",
       "\t<tr><td>Autumn</td><td>19</td><td>15.06346</td><td>1515.568</td></tr>\n",
       "</tbody>\n",
       "</table>\n"
      ],
      "text/latex": [
       "A data.frame: 10 × 4\n",
       "\\begin{tabular}{llll}\n",
       " season & hour & avg\\_temperature & avg\\_bike\\_rentals\\\\\n",
       " <chr> & <dbl> & <dbl> & <dbl>\\\\\n",
       "\\hline\n",
       "\t Summer & 18 & 29.38791 & 2135.141\\\\\n",
       "\t Autumn & 18 & 16.03185 & 1983.333\\\\\n",
       "\t Summer & 19 & 28.27378 & 1889.250\\\\\n",
       "\t Summer & 20 & 27.06630 & 1801.924\\\\\n",
       "\t Summer & 21 & 26.27826 & 1754.065\\\\\n",
       "\t Spring & 18 & 15.97222 & 1689.311\\\\\n",
       "\t Summer & 22 & 25.69891 & 1567.870\\\\\n",
       "\t Autumn & 17 & 17.27778 & 1562.877\\\\\n",
       "\t Summer & 17 & 30.07691 & 1526.293\\\\\n",
       "\t Autumn & 19 & 15.06346 & 1515.568\\\\\n",
       "\\end{tabular}\n"
      ],
      "text/markdown": [
       "\n",
       "A data.frame: 10 × 4\n",
       "\n",
       "| season &lt;chr&gt; | hour &lt;dbl&gt; | avg_temperature &lt;dbl&gt; | avg_bike_rentals &lt;dbl&gt; |\n",
       "|---|---|---|---|\n",
       "| Summer | 18 | 29.38791 | 2135.141 |\n",
       "| Autumn | 18 | 16.03185 | 1983.333 |\n",
       "| Summer | 19 | 28.27378 | 1889.250 |\n",
       "| Summer | 20 | 27.06630 | 1801.924 |\n",
       "| Summer | 21 | 26.27826 | 1754.065 |\n",
       "| Spring | 18 | 15.97222 | 1689.311 |\n",
       "| Summer | 22 | 25.69891 | 1567.870 |\n",
       "| Autumn | 17 | 17.27778 | 1562.877 |\n",
       "| Summer | 17 | 30.07691 | 1526.293 |\n",
       "| Autumn | 19 | 15.06346 | 1515.568 |\n",
       "\n"
      ],
      "text/plain": [
       "   season hour avg_temperature avg_bike_rentals\n",
       "1  Summer 18   29.38791        2135.141        \n",
       "2  Autumn 18   16.03185        1983.333        \n",
       "3  Summer 19   28.27378        1889.250        \n",
       "4  Summer 20   27.06630        1801.924        \n",
       "5  Summer 21   26.27826        1754.065        \n",
       "6  Spring 18   15.97222        1689.311        \n",
       "7  Summer 22   25.69891        1567.870        \n",
       "8  Autumn 17   17.27778        1562.877        \n",
       "9  Summer 17   30.07691        1526.293        \n",
       "10 Autumn 19   15.06346        1515.568        "
      ]
     },
     "metadata": {},
     "output_type": "display_data"
    }
   ],
   "source": [
    "dbGetQuery(con, \"\n",
    "  SELECT SEASONS AS season,\n",
    "         HOUR AS hour,\n",
    "         AVG(TEMPERATURE) AS avg_temperature,\n",
    "         AVG(RENTED_BIKE_COUNT) AS avg_bike_rentals\n",
    "  FROM seoul_bike_sharing\n",
    "  GROUP BY SEASONS, HOUR\n",
    "  ORDER BY avg_bike_rentals DESC\n",
    "  LIMIT 10\n",
    "\")\n"
   ]
  },
  {
   "cell_type": "code",
   "execution_count": 44,
   "id": "47401974-dc41-4b13-b21e-3946234439a4",
   "metadata": {},
   "outputs": [
    {
     "data": {
      "text/html": [
       "<table class=\"dataframe\">\n",
       "<caption>A data.frame: 4 × 5</caption>\n",
       "<thead>\n",
       "\t<tr><th scope=col>season</th><th scope=col>avg_bike_count</th><th scope=col>min_bike_count</th><th scope=col>max_bike_count</th><th scope=col>stddev_bike_count</th></tr>\n",
       "\t<tr><th scope=col>&lt;chr&gt;</th><th scope=col>&lt;dbl&gt;</th><th scope=col>&lt;dbl&gt;</th><th scope=col>&lt;dbl&gt;</th><th scope=col>&lt;dbl&gt;</th></tr>\n",
       "</thead>\n",
       "<tbody>\n",
       "\t<tr><td>Autumn</td><td> 924.1105</td><td>2</td><td>3298</td><td>617.3885</td></tr>\n",
       "\t<tr><td>Spring</td><td> 746.2542</td><td>2</td><td>3251</td><td>618.5247</td></tr>\n",
       "\t<tr><td>Summer</td><td>1034.0734</td><td>9</td><td>3556</td><td>690.0884</td></tr>\n",
       "\t<tr><td>Winter</td><td> 225.5412</td><td>3</td><td> 937</td><td>150.3374</td></tr>\n",
       "</tbody>\n",
       "</table>\n"
      ],
      "text/latex": [
       "A data.frame: 4 × 5\n",
       "\\begin{tabular}{lllll}\n",
       " season & avg\\_bike\\_count & min\\_bike\\_count & max\\_bike\\_count & stddev\\_bike\\_count\\\\\n",
       " <chr> & <dbl> & <dbl> & <dbl> & <dbl>\\\\\n",
       "\\hline\n",
       "\t Autumn &  924.1105 & 2 & 3298 & 617.3885\\\\\n",
       "\t Spring &  746.2542 & 2 & 3251 & 618.5247\\\\\n",
       "\t Summer & 1034.0734 & 9 & 3556 & 690.0884\\\\\n",
       "\t Winter &  225.5412 & 3 &  937 & 150.3374\\\\\n",
       "\\end{tabular}\n"
      ],
      "text/markdown": [
       "\n",
       "A data.frame: 4 × 5\n",
       "\n",
       "| season &lt;chr&gt; | avg_bike_count &lt;dbl&gt; | min_bike_count &lt;dbl&gt; | max_bike_count &lt;dbl&gt; | stddev_bike_count &lt;dbl&gt; |\n",
       "|---|---|---|---|---|\n",
       "| Autumn |  924.1105 | 2 | 3298 | 617.3885 |\n",
       "| Spring |  746.2542 | 2 | 3251 | 618.5247 |\n",
       "| Summer | 1034.0734 | 9 | 3556 | 690.0884 |\n",
       "| Winter |  225.5412 | 3 |  937 | 150.3374 |\n",
       "\n"
      ],
      "text/plain": [
       "  season avg_bike_count min_bike_count max_bike_count stddev_bike_count\n",
       "1 Autumn  924.1105      2              3298           617.3885         \n",
       "2 Spring  746.2542      2              3251           618.5247         \n",
       "3 Summer 1034.0734      9              3556           690.0884         \n",
       "4 Winter  225.5412      3               937           150.3374         "
      ]
     },
     "metadata": {},
     "output_type": "display_data"
    }
   ],
   "source": [
    "dbGetQuery(con, \"\n",
    "  SELECT SEASONS AS season,\n",
    "         AVG(RENTED_BIKE_COUNT) AS avg_bike_count,\n",
    "         MIN(RENTED_BIKE_COUNT) AS min_bike_count,\n",
    "         MAX(RENTED_BIKE_COUNT) AS max_bike_count,\n",
    "         SQRT(AVG(RENTED_BIKE_COUNT * RENTED_BIKE_COUNT) - AVG(RENTED_BIKE_COUNT) * AVG(RENTED_BIKE_COUNT)) AS stddev_bike_count\n",
    "  FROM seoul_bike_sharing\n",
    "  GROUP BY SEASONS\n",
    "\")\n"
   ]
  },
  {
   "cell_type": "code",
   "execution_count": 45,
   "id": "c7064114-c1c6-45e2-801c-5df0533b8fb3",
   "metadata": {},
   "outputs": [
    {
     "data": {
      "text/html": [
       "<table class=\"dataframe\">\n",
       "<caption>A data.frame: 4 × 10</caption>\n",
       "<thead>\n",
       "\t<tr><th scope=col>season</th><th scope=col>avg_temperature</th><th scope=col>avg_humidity</th><th scope=col>avg_wind_speed</th><th scope=col>avg_visibility</th><th scope=col>avg_dew_point_temperature</th><th scope=col>avg_solar_radiation</th><th scope=col>avg_rainfall</th><th scope=col>avg_snowfall</th><th scope=col>avg_bike_count</th></tr>\n",
       "\t<tr><th scope=col>&lt;chr&gt;</th><th scope=col>&lt;dbl&gt;</th><th scope=col>&lt;dbl&gt;</th><th scope=col>&lt;dbl&gt;</th><th scope=col>&lt;dbl&gt;</th><th scope=col>&lt;dbl&gt;</th><th scope=col>&lt;dbl&gt;</th><th scope=col>&lt;dbl&gt;</th><th scope=col>&lt;dbl&gt;</th><th scope=col>&lt;dbl&gt;</th></tr>\n",
       "</thead>\n",
       "<tbody>\n",
       "\t<tr><td>Summer</td><td>26.587711</td><td>64.98143</td><td>1.609420</td><td>1501.745</td><td> 18.750136</td><td>0.7612545</td><td>0.25348732</td><td>0.00000000</td><td>1034.0734</td></tr>\n",
       "\t<tr><td>Autumn</td><td>13.821580</td><td>59.04491</td><td>1.492101</td><td>1558.174</td><td>  5.150594</td><td>0.5227827</td><td>0.11765617</td><td>0.06350026</td><td> 924.1105</td></tr>\n",
       "\t<tr><td>Spring</td><td>13.021685</td><td>58.75833</td><td>1.857778</td><td>1240.912</td><td>  4.091389</td><td>0.6803009</td><td>0.18694444</td><td>0.00000000</td><td> 746.2542</td></tr>\n",
       "\t<tr><td>Winter</td><td>-2.540463</td><td>49.74491</td><td>1.922685</td><td>1445.987</td><td>-12.416667</td><td>0.2981806</td><td>0.03282407</td><td>0.24750000</td><td> 225.5412</td></tr>\n",
       "</tbody>\n",
       "</table>\n"
      ],
      "text/latex": [
       "A data.frame: 4 × 10\n",
       "\\begin{tabular}{llllllllll}\n",
       " season & avg\\_temperature & avg\\_humidity & avg\\_wind\\_speed & avg\\_visibility & avg\\_dew\\_point\\_temperature & avg\\_solar\\_radiation & avg\\_rainfall & avg\\_snowfall & avg\\_bike\\_count\\\\\n",
       " <chr> & <dbl> & <dbl> & <dbl> & <dbl> & <dbl> & <dbl> & <dbl> & <dbl> & <dbl>\\\\\n",
       "\\hline\n",
       "\t Summer & 26.587711 & 64.98143 & 1.609420 & 1501.745 &  18.750136 & 0.7612545 & 0.25348732 & 0.00000000 & 1034.0734\\\\\n",
       "\t Autumn & 13.821580 & 59.04491 & 1.492101 & 1558.174 &   5.150594 & 0.5227827 & 0.11765617 & 0.06350026 &  924.1105\\\\\n",
       "\t Spring & 13.021685 & 58.75833 & 1.857778 & 1240.912 &   4.091389 & 0.6803009 & 0.18694444 & 0.00000000 &  746.2542\\\\\n",
       "\t Winter & -2.540463 & 49.74491 & 1.922685 & 1445.987 & -12.416667 & 0.2981806 & 0.03282407 & 0.24750000 &  225.5412\\\\\n",
       "\\end{tabular}\n"
      ],
      "text/markdown": [
       "\n",
       "A data.frame: 4 × 10\n",
       "\n",
       "| season &lt;chr&gt; | avg_temperature &lt;dbl&gt; | avg_humidity &lt;dbl&gt; | avg_wind_speed &lt;dbl&gt; | avg_visibility &lt;dbl&gt; | avg_dew_point_temperature &lt;dbl&gt; | avg_solar_radiation &lt;dbl&gt; | avg_rainfall &lt;dbl&gt; | avg_snowfall &lt;dbl&gt; | avg_bike_count &lt;dbl&gt; |\n",
       "|---|---|---|---|---|---|---|---|---|---|\n",
       "| Summer | 26.587711 | 64.98143 | 1.609420 | 1501.745 |  18.750136 | 0.7612545 | 0.25348732 | 0.00000000 | 1034.0734 |\n",
       "| Autumn | 13.821580 | 59.04491 | 1.492101 | 1558.174 |   5.150594 | 0.5227827 | 0.11765617 | 0.06350026 |  924.1105 |\n",
       "| Spring | 13.021685 | 58.75833 | 1.857778 | 1240.912 |   4.091389 | 0.6803009 | 0.18694444 | 0.00000000 |  746.2542 |\n",
       "| Winter | -2.540463 | 49.74491 | 1.922685 | 1445.987 | -12.416667 | 0.2981806 | 0.03282407 | 0.24750000 |  225.5412 |\n",
       "\n"
      ],
      "text/plain": [
       "  season avg_temperature avg_humidity avg_wind_speed avg_visibility\n",
       "1 Summer 26.587711       64.98143     1.609420       1501.745      \n",
       "2 Autumn 13.821580       59.04491     1.492101       1558.174      \n",
       "3 Spring 13.021685       58.75833     1.857778       1240.912      \n",
       "4 Winter -2.540463       49.74491     1.922685       1445.987      \n",
       "  avg_dew_point_temperature avg_solar_radiation avg_rainfall avg_snowfall\n",
       "1  18.750136                0.7612545           0.25348732   0.00000000  \n",
       "2   5.150594                0.5227827           0.11765617   0.06350026  \n",
       "3   4.091389                0.6803009           0.18694444   0.00000000  \n",
       "4 -12.416667                0.2981806           0.03282407   0.24750000  \n",
       "  avg_bike_count\n",
       "1 1034.0734     \n",
       "2  924.1105     \n",
       "3  746.2542     \n",
       "4  225.5412     "
      ]
     },
     "metadata": {},
     "output_type": "display_data"
    }
   ],
   "source": [
    "dbGetQuery(con, \"\n",
    "  SELECT SEASONS AS season,\n",
    "         AVG(TEMPERATURE) AS avg_temperature,\n",
    "         AVG(HUMIDITY) AS avg_humidity,\n",
    "         AVG(WIND_SPEED) AS avg_wind_speed,\n",
    "         AVG(VISIBILITY) AS avg_visibility,\n",
    "         AVG(DEW_POINT_TEMPERATURE) AS avg_dew_point_temperature,\n",
    "         AVG(SOLAR_RADIATION) AS avg_solar_radiation,\n",
    "         AVG(RAINFALL) AS avg_rainfall,\n",
    "         AVG(SNOWFALL) AS avg_snowfall,\n",
    "         AVG(RENTED_BIKE_COUNT) AS avg_bike_count\n",
    "  FROM seoul_bike_sharing\n",
    "  GROUP BY SEASONS\n",
    "  ORDER BY avg_bike_count DESC\n",
    "\")\n"
   ]
  },
  {
   "cell_type": "code",
   "execution_count": 48,
   "id": "b084fd8b-92ed-4ef2-837d-e8bdc034fbe1",
   "metadata": {},
   "outputs": [
    {
     "data": {
      "text/html": [
       "<table class=\"dataframe\">\n",
       "<caption>A data.frame: 1 × 6</caption>\n",
       "<thead>\n",
       "\t<tr><th scope=col>CITY</th><th scope=col>COUNTRY</th><th scope=col>LAT</th><th scope=col>LNG</th><th scope=col>POPULATION</th><th scope=col>total_bikes</th></tr>\n",
       "\t<tr><th scope=col>&lt;chr&gt;</th><th scope=col>&lt;chr&gt;</th><th scope=col>&lt;dbl&gt;</th><th scope=col>&lt;dbl&gt;</th><th scope=col>&lt;dbl&gt;</th><th scope=col>&lt;dbl&gt;</th></tr>\n",
       "</thead>\n",
       "<tbody>\n",
       "\t<tr><td>Seoul</td><td>Korea, South</td><td>37.5833</td><td>127</td><td>21794000</td><td>20000</td></tr>\n",
       "</tbody>\n",
       "</table>\n"
      ],
      "text/latex": [
       "A data.frame: 1 × 6\n",
       "\\begin{tabular}{llllll}\n",
       " CITY & COUNTRY & LAT & LNG & POPULATION & total\\_bikes\\\\\n",
       " <chr> & <chr> & <dbl> & <dbl> & <dbl> & <dbl>\\\\\n",
       "\\hline\n",
       "\t Seoul & Korea, South & 37.5833 & 127 & 21794000 & 20000\\\\\n",
       "\\end{tabular}\n"
      ],
      "text/markdown": [
       "\n",
       "A data.frame: 1 × 6\n",
       "\n",
       "| CITY &lt;chr&gt; | COUNTRY &lt;chr&gt; | LAT &lt;dbl&gt; | LNG &lt;dbl&gt; | POPULATION &lt;dbl&gt; | total_bikes &lt;dbl&gt; |\n",
       "|---|---|---|---|---|---|\n",
       "| Seoul | Korea, South | 37.5833 | 127 | 21794000 | 20000 |\n",
       "\n"
      ],
      "text/plain": [
       "  CITY  COUNTRY      LAT     LNG POPULATION total_bikes\n",
       "1 Seoul Korea, South 37.5833 127 21794000   20000      "
      ]
     },
     "metadata": {},
     "output_type": "display_data"
    }
   ],
   "source": [
    "dbGetQuery(con, \"\n",
    "  SELECT w.CITY,\n",
    "         w.COUNTRY,\n",
    "         w.LAT,\n",
    "         w.LNG,\n",
    "         w.POPULATION,\n",
    "         b.BICYCLES AS total_bikes\n",
    "  FROM world_cities w, bike_sharing_systems b\n",
    "  WHERE w.CITY = 'Seoul'\n",
    "    AND b.CITY = 'Seoul'\n",
    "\")\n"
   ]
  },
  {
   "cell_type": "code",
   "execution_count": 49,
   "id": "ac0d24ce-facd-4318-ab43-a81dae37ce4b",
   "metadata": {},
   "outputs": [
    {
     "data": {
      "text/html": [
       "<table class=\"dataframe\">\n",
       "<caption>A data.frame: 6 × 6</caption>\n",
       "<thead>\n",
       "\t<tr><th scope=col>CITY</th><th scope=col>COUNTRY</th><th scope=col>LAT</th><th scope=col>LNG</th><th scope=col>POPULATION</th><th scope=col>total_bikes</th></tr>\n",
       "\t<tr><th scope=col>&lt;chr&gt;</th><th scope=col>&lt;chr&gt;</th><th scope=col>&lt;dbl&gt;</th><th scope=col>&lt;dbl&gt;</th><th scope=col>&lt;dbl&gt;</th><th scope=col>&lt;dbl&gt;</th></tr>\n",
       "</thead>\n",
       "<tbody>\n",
       "\t<tr><td>Beijing </td><td>China       </td><td>39.9050</td><td>116.3914</td><td>19433000</td><td>16000</td></tr>\n",
       "\t<tr><td>Ningbo  </td><td>China       </td><td>29.8750</td><td>121.5492</td><td> 7639000</td><td>15000</td></tr>\n",
       "\t<tr><td>Shanghai</td><td>China       </td><td>31.1667</td><td>121.4667</td><td>22120000</td><td>19165</td></tr>\n",
       "\t<tr><td>Weifang </td><td>China       </td><td>36.7167</td><td>119.1000</td><td> 9373000</td><td>20000</td></tr>\n",
       "\t<tr><td>Zhuzhou </td><td>China       </td><td>27.8407</td><td>113.1469</td><td> 3855609</td><td>20000</td></tr>\n",
       "\t<tr><td>Seoul   </td><td>Korea, South</td><td>37.5833</td><td>127.0000</td><td>21794000</td><td>20000</td></tr>\n",
       "</tbody>\n",
       "</table>\n"
      ],
      "text/latex": [
       "A data.frame: 6 × 6\n",
       "\\begin{tabular}{llllll}\n",
       " CITY & COUNTRY & LAT & LNG & POPULATION & total\\_bikes\\\\\n",
       " <chr> & <chr> & <dbl> & <dbl> & <dbl> & <dbl>\\\\\n",
       "\\hline\n",
       "\t Beijing  & China        & 39.9050 & 116.3914 & 19433000 & 16000\\\\\n",
       "\t Ningbo   & China        & 29.8750 & 121.5492 &  7639000 & 15000\\\\\n",
       "\t Shanghai & China        & 31.1667 & 121.4667 & 22120000 & 19165\\\\\n",
       "\t Weifang  & China        & 36.7167 & 119.1000 &  9373000 & 20000\\\\\n",
       "\t Zhuzhou  & China        & 27.8407 & 113.1469 &  3855609 & 20000\\\\\n",
       "\t Seoul    & Korea, South & 37.5833 & 127.0000 & 21794000 & 20000\\\\\n",
       "\\end{tabular}\n"
      ],
      "text/markdown": [
       "\n",
       "A data.frame: 6 × 6\n",
       "\n",
       "| CITY &lt;chr&gt; | COUNTRY &lt;chr&gt; | LAT &lt;dbl&gt; | LNG &lt;dbl&gt; | POPULATION &lt;dbl&gt; | total_bikes &lt;dbl&gt; |\n",
       "|---|---|---|---|---|---|\n",
       "| Beijing  | China        | 39.9050 | 116.3914 | 19433000 | 16000 |\n",
       "| Ningbo   | China        | 29.8750 | 121.5492 |  7639000 | 15000 |\n",
       "| Shanghai | China        | 31.1667 | 121.4667 | 22120000 | 19165 |\n",
       "| Weifang  | China        | 36.7167 | 119.1000 |  9373000 | 20000 |\n",
       "| Zhuzhou  | China        | 27.8407 | 113.1469 |  3855609 | 20000 |\n",
       "| Seoul    | Korea, South | 37.5833 | 127.0000 | 21794000 | 20000 |\n",
       "\n"
      ],
      "text/plain": [
       "  CITY     COUNTRY      LAT     LNG      POPULATION total_bikes\n",
       "1 Beijing  China        39.9050 116.3914 19433000   16000      \n",
       "2 Ningbo   China        29.8750 121.5492  7639000   15000      \n",
       "3 Shanghai China        31.1667 121.4667 22120000   19165      \n",
       "4 Weifang  China        36.7167 119.1000  9373000   20000      \n",
       "5 Zhuzhou  China        27.8407 113.1469  3855609   20000      \n",
       "6 Seoul    Korea, South 37.5833 127.0000 21794000   20000      "
      ]
     },
     "metadata": {},
     "output_type": "display_data"
    }
   ],
   "source": [
    "dbGetQuery(con, \"\n",
    "  SELECT w.CITY,\n",
    "         w.COUNTRY,\n",
    "         w.LAT,\n",
    "         w.LNG,\n",
    "         w.POPULATION,\n",
    "         b.BICYCLES AS total_bikes\n",
    "  FROM world_cities w\n",
    "  JOIN bike_sharing_systems b ON w.CITY = b.CITY\n",
    "  WHERE b.BICYCLES BETWEEN 15000 AND 20000\n",
    "\")\n"
   ]
  },
  {
   "cell_type": "code",
   "execution_count": null,
   "id": "c11f11e0-53d2-4c7b-bf55-d49214975839",
   "metadata": {},
   "outputs": [],
   "source": []
  }
 ],
 "metadata": {
  "kernelspec": {
   "display_name": "R",
   "language": "R",
   "name": "ir"
  },
  "language_info": {
   "codemirror_mode": "r",
   "file_extension": ".r",
   "mimetype": "text/x-r-source",
   "name": "R",
   "pygments_lexer": "r",
   "version": "4.4.3"
  }
 },
 "nbformat": 4,
 "nbformat_minor": 5
}
