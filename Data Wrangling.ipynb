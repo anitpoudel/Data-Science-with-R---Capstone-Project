{
 "cells": [
  {
   "cell_type": "code",
   "execution_count": 2,
   "id": "4d165965-64dd-4f59-85e2-ba3b742e5b04",
   "metadata": {},
   "outputs": [
    {
     "name": "stdout",
     "output_type": "stream",
     "text": [
      "\n",
      "The downloaded binary packages are in\n",
      "\t/var/folders/wy/f2g87lw121qf8pt2k7_d4ysr0000gn/T//RtmpNFn1UH/downloaded_packages\n"
     ]
    }
   ],
   "source": [
    "install.packages(\"tidyverse\")"
   ]
  },
  {
   "cell_type": "code",
   "execution_count": 3,
   "id": "8bc29e8d-1315-4ab8-b7f5-85f27f5c19a3",
   "metadata": {},
   "outputs": [
    {
     "name": "stderr",
     "output_type": "stream",
     "text": [
      "── \u001b[1mAttaching core tidyverse packages\u001b[22m ──────────────────────── tidyverse 2.0.0 ──\n",
      "\u001b[32m✔\u001b[39m \u001b[34mdplyr    \u001b[39m 1.1.4     \u001b[32m✔\u001b[39m \u001b[34mreadr    \u001b[39m 2.1.5\n",
      "\u001b[32m✔\u001b[39m \u001b[34mforcats  \u001b[39m 1.0.0     \u001b[32m✔\u001b[39m \u001b[34mstringr  \u001b[39m 1.5.1\n",
      "\u001b[32m✔\u001b[39m \u001b[34mggplot2  \u001b[39m 3.5.1     \u001b[32m✔\u001b[39m \u001b[34mtibble   \u001b[39m 3.2.1\n",
      "\u001b[32m✔\u001b[39m \u001b[34mlubridate\u001b[39m 1.9.4     \u001b[32m✔\u001b[39m \u001b[34mtidyr    \u001b[39m 1.3.1\n",
      "\u001b[32m✔\u001b[39m \u001b[34mpurrr    \u001b[39m 1.0.4     \n",
      "── \u001b[1mConflicts\u001b[22m ────────────────────────────────────────── tidyverse_conflicts() ──\n",
      "\u001b[31m✖\u001b[39m \u001b[34mdplyr\u001b[39m::\u001b[32mfilter()\u001b[39m masks \u001b[34mstats\u001b[39m::filter()\n",
      "\u001b[31m✖\u001b[39m \u001b[34mdplyr\u001b[39m::\u001b[32mlag()\u001b[39m    masks \u001b[34mstats\u001b[39m::lag()\n",
      "\u001b[36mℹ\u001b[39m Use the conflicted package (\u001b[3m\u001b[34m<http://conflicted.r-lib.org/>\u001b[39m\u001b[23m) to force all conflicts to become errors\n"
     ]
    }
   ],
   "source": [
    "library(tidyverse)"
   ]
  },
  {
   "cell_type": "code",
   "execution_count": 4,
   "id": "111e0b25-e71d-4412-bc40-52f271ca212b",
   "metadata": {},
   "outputs": [],
   "source": [
    "# Download raw_bike_sharing_systems.csv\n",
    "url <- \"https://cf-courses-data.s3.us.cloud-object-storage.appdomain.cloud/IBMDeveloperSkillsNetwork-RP0321EN-SkillsNetwork/labs/datasets/raw_bike_sharing_systems.csv\"\n",
    "download.file(url, destfile = \"raw_bike_sharing_systems.csv\")"
   ]
  },
  {
   "cell_type": "code",
   "execution_count": 5,
   "id": "066cefea-e29c-4630-bd10-9d027190537f",
   "metadata": {},
   "outputs": [],
   "source": [
    "# Download raw_cities_weather_forecast.csv\n",
    "url <- \"https://cf-courses-data.s3.us.cloud-object-storage.appdomain.cloud/IBMDeveloperSkillsNetwork-RP0321EN-SkillsNetwork/labs/datasets/raw_cities_weather_forecast.csv\"\n",
    "download.file(url, destfile = \"raw_cities_weather_forecast.csv\")"
   ]
  },
  {
   "cell_type": "code",
   "execution_count": 6,
   "id": "2cff57d2-48e5-4aba-a0a8-0e09982aac42",
   "metadata": {},
   "outputs": [],
   "source": [
    "# Download raw_worldcities.csv\n",
    "url <- \"https://cf-courses-data.s3.us.cloud-object-storage.appdomain.cloud/IBMDeveloperSkillsNetwork-RP0321EN-SkillsNetwork/labs/datasets/raw_worldcities.csv\"\n",
    "download.file(url, destfile = \"raw_worldcities.csv\")"
   ]
  },
  {
   "cell_type": "code",
   "execution_count": 7,
   "id": "ca8e4508-0527-4b7d-a454-e2206dd45fd4",
   "metadata": {},
   "outputs": [],
   "source": [
    "# Download raw_seoul_bike_sharing.csv\n",
    "url <- \"https://cf-courses-data.s3.us.cloud-object-storage.appdomain.cloud/IBMDeveloperSkillsNetwork-RP0321EN-SkillsNetwork/labs/datasets/raw_seoul_bike_sharing.csv\"\n",
    "download.file(url, destfile = \"raw_seoul_bike_sharing.csv\")"
   ]
  },
  {
   "cell_type": "code",
   "execution_count": 18,
   "id": "a01c2782-6a89-4856-984b-03223496d079",
   "metadata": {},
   "outputs": [],
   "source": [
    "dataset_list <- c('raw_bike_sharing_systems.csv', 'raw_seoul_bike_sharing.csv', 'raw_cities_weather_forecast.csv', 'raw_worldcities.csv')"
   ]
  },
  {
   "cell_type": "code",
   "execution_count": 19,
   "id": "b059d2c6-c537-42c7-b769-d5494c243a6e",
   "metadata": {},
   "outputs": [
    {
     "name": "stderr",
     "output_type": "stream",
     "text": [
      "\u001b[1mRows: \u001b[22m\u001b[34m480\u001b[39m \u001b[1mColumns: \u001b[22m\u001b[34m10\u001b[39m\n",
      "\u001b[36m──\u001b[39m \u001b[1mColumn specification\u001b[22m \u001b[36m────────────────────────────────────────────────────────\u001b[39m\n",
      "\u001b[1mDelimiter:\u001b[22m \",\"\n",
      "\u001b[31mchr\u001b[39m (10): COUNTRY, City, Name, SYSTEM, OPERATOR, LAUNCHED, DISCONTINUED, STA...\n",
      "\n",
      "\u001b[36mℹ\u001b[39m Use `spec()` to retrieve the full column specification for this data.\n",
      "\u001b[36mℹ\u001b[39m Specify the column types or set `show_col_types = FALSE` to quiet this message.\n",
      "\u001b[1mRows: \u001b[22m\u001b[34m8760\u001b[39m \u001b[1mColumns: \u001b[22m\u001b[34m14\u001b[39m\n",
      "\u001b[36m──\u001b[39m \u001b[1mColumn specification\u001b[22m \u001b[36m────────────────────────────────────────────────────────\u001b[39m\n",
      "\u001b[1mDelimiter:\u001b[22m \",\"\n",
      "\u001b[31mchr\u001b[39m  (4): Date, SEASONS, HOLIDAY, FUNCTIONING_DAY\n",
      "\u001b[32mdbl\u001b[39m (10): RENTED_BIKE_COUNT, Hour, TEMPERATURE, HUMIDITY, WIND_SPEED, Visibi...\n",
      "\n",
      "\u001b[36mℹ\u001b[39m Use `spec()` to retrieve the full column specification for this data.\n",
      "\u001b[36mℹ\u001b[39m Specify the column types or set `show_col_types = FALSE` to quiet this message.\n",
      "\u001b[1mRows: \u001b[22m\u001b[34m160\u001b[39m \u001b[1mColumns: \u001b[22m\u001b[34m12\u001b[39m\n",
      "\u001b[36m──\u001b[39m \u001b[1mColumn specification\u001b[22m \u001b[36m────────────────────────────────────────────────────────\u001b[39m\n",
      "\u001b[1mDelimiter:\u001b[22m \",\"\n",
      "\u001b[31mchr\u001b[39m  (3): city, weather, season\n",
      "\u001b[32mdbl\u001b[39m  (8): visibility, temp, temp_min, temp_max, pressure, humidity, wind_spe...\n",
      "\u001b[34mdttm\u001b[39m (1): forecast_datetime\n",
      "\n",
      "\u001b[36mℹ\u001b[39m Use `spec()` to retrieve the full column specification for this data.\n",
      "\u001b[36mℹ\u001b[39m Specify the column types or set `show_col_types = FALSE` to quiet this message.\n",
      "\u001b[1mRows: \u001b[22m\u001b[34m26569\u001b[39m \u001b[1mColumns: \u001b[22m\u001b[34m11\u001b[39m\n",
      "\u001b[36m──\u001b[39m \u001b[1mColumn specification\u001b[22m \u001b[36m────────────────────────────────────────────────────────\u001b[39m\n",
      "\u001b[1mDelimiter:\u001b[22m \",\"\n",
      "\u001b[31mchr\u001b[39m (7): City, CITY_ASCII, COUNTRY, ISO2, ISO3, ADMIN_NAME, CAPITAL\n",
      "\u001b[32mdbl\u001b[39m (4): LAT, LNG, POPULATION, ID\n",
      "\n",
      "\u001b[36mℹ\u001b[39m Use `spec()` to retrieve the full column specification for this data.\n",
      "\u001b[36mℹ\u001b[39m Specify the column types or set `show_col_types = FALSE` to quiet this message.\n"
     ]
    }
   ],
   "source": [
    "library(readr)\n",
    "library(stringr)\n",
    "\n",
    "dataset_list <- c(\n",
    "  'raw_bike_sharing_systems.csv',\n",
    "  'raw_seoul_bike_sharing.csv',\n",
    "  'raw_cities_weather_forecast.csv',\n",
    "  'raw_worldcities.csv'\n",
    ")\n",
    "\n",
    "for (dataset_name in dataset_list) {\n",
    "  dataset <- read_csv(dataset_name)\n",
    "  \n",
    "  # Convert column names to UPPERCASE and replace spaces with underscores\n",
    "  colnames(dataset) <- colnames(dataset) |>\n",
    "    toupper() |>\n",
    "    str_replace_all(\" \", \"_\")\n",
    "  \n",
    "  write.csv(dataset, dataset_name, row.names = FALSE)\n",
    "}\n"
   ]
  },
  {
   "cell_type": "code",
   "execution_count": 21,
   "id": "3d847a93-e89a-4d1f-8c73-621241708337",
   "metadata": {},
   "outputs": [
    {
     "name": "stdout",
     "output_type": "stream",
     "text": [
      "Dataset: raw_bike_sharing_systems.csv \n",
      "Column Names:\n",
      " [1] \"COUNTRY\"         \"CITY\"            \"NAME\"            \"SYSTEM\"         \n",
      " [5] \"OPERATOR\"        \"LAUNCHED\"        \"DISCONTINUED\"    \"STATIONS\"       \n",
      " [9] \"BICYCLES\"        \"DAILY_RIDERSHIP\"\n",
      "\n",
      "-----------------------------\n",
      "\n",
      "Dataset: raw_seoul_bike_sharing.csv \n",
      "Column Names:\n",
      " [1] \"DATE\"                  \"RENTED_BIKE_COUNT\"     \"HOUR\"                 \n",
      " [4] \"TEMPERATURE\"           \"HUMIDITY\"              \"WIND_SPEED\"           \n",
      " [7] \"VISIBILITY\"            \"DEW_POINT_TEMPERATURE\" \"SOLAR_RADIATION\"      \n",
      "[10] \"RAINFALL\"              \"SNOWFALL\"              \"SEASONS\"              \n",
      "[13] \"HOLIDAY\"               \"FUNCTIONING_DAY\"      \n",
      "\n",
      "-----------------------------\n",
      "\n",
      "Dataset: raw_cities_weather_forecast.csv \n",
      "Column Names:\n",
      " [1] \"CITY\"              \"WEATHER\"           \"VISIBILITY\"       \n",
      " [4] \"TEMP\"              \"TEMP_MIN\"          \"TEMP_MAX\"         \n",
      " [7] \"PRESSURE\"          \"HUMIDITY\"          \"WIND_SPEED\"       \n",
      "[10] \"WIND_DEG\"          \"SEASON\"            \"FORECAST_DATETIME\"\n",
      "\n",
      "-----------------------------\n",
      "\n",
      "Dataset: raw_worldcities.csv \n",
      "Column Names:\n",
      " [1] \"CITY\"       \"CITY_ASCII\" \"LAT\"        \"LNG\"        \"COUNTRY\"   \n",
      " [6] \"ISO2\"       \"ISO3\"       \"ADMIN_NAME\" \"CAPITAL\"    \"POPULATION\"\n",
      "[11] \"ID\"        \n",
      "\n",
      "-----------------------------\n",
      "\n"
     ]
    }
   ],
   "source": [
    "for (dataset_name in dataset_list) {\n",
    "  dataset <- read_csv(dataset_name, show_col_types = FALSE)\n",
    "  \n",
    "  cat(\"Dataset:\", dataset_name, \"\\n\")\n",
    "  cat(\"Column Names:\\n\")\n",
    "  print(colnames(dataset))\n",
    "  cat(\"\\n-----------------------------\\n\\n\")\n",
    "}"
   ]
  },
  {
   "cell_type": "code",
   "execution_count": 22,
   "id": "2e1ea4b4-ec5f-4cac-ad5d-eba2549ef317",
   "metadata": {},
   "outputs": [
    {
     "name": "stderr",
     "output_type": "stream",
     "text": [
      "\u001b[1mRows: \u001b[22m\u001b[34m480\u001b[39m \u001b[1mColumns: \u001b[22m\u001b[34m10\u001b[39m\n",
      "\u001b[36m──\u001b[39m \u001b[1mColumn specification\u001b[22m \u001b[36m────────────────────────────────────────────────────────\u001b[39m\n",
      "\u001b[1mDelimiter:\u001b[22m \",\"\n",
      "\u001b[31mchr\u001b[39m (10): COUNTRY, CITY, NAME, SYSTEM, OPERATOR, LAUNCHED, DISCONTINUED, STA...\n",
      "\n",
      "\u001b[36mℹ\u001b[39m Use `spec()` to retrieve the full column specification for this data.\n",
      "\u001b[36mℹ\u001b[39m Specify the column types or set `show_col_types = FALSE` to quiet this message.\n"
     ]
    }
   ],
   "source": [
    "# First load the dataset\n",
    "bike_sharing_df <- read_csv(\"raw_bike_sharing_systems.csv\")"
   ]
  },
  {
   "cell_type": "code",
   "execution_count": 23,
   "id": "0c70419d-c606-4aac-932f-43d665646272",
   "metadata": {},
   "outputs": [
    {
     "data": {
      "text/html": [
       "<table class=\"dataframe\">\n",
       "<caption>A tibble: 6 × 10</caption>\n",
       "<thead>\n",
       "\t<tr><th scope=col>COUNTRY</th><th scope=col>CITY</th><th scope=col>NAME</th><th scope=col>SYSTEM</th><th scope=col>OPERATOR</th><th scope=col>LAUNCHED</th><th scope=col>DISCONTINUED</th><th scope=col>STATIONS</th><th scope=col>BICYCLES</th><th scope=col>DAILY_RIDERSHIP</th></tr>\n",
       "\t<tr><th scope=col>&lt;chr&gt;</th><th scope=col>&lt;chr&gt;</th><th scope=col>&lt;chr&gt;</th><th scope=col>&lt;chr&gt;</th><th scope=col>&lt;chr&gt;</th><th scope=col>&lt;chr&gt;</th><th scope=col>&lt;chr&gt;</th><th scope=col>&lt;chr&gt;</th><th scope=col>&lt;chr&gt;</th><th scope=col>&lt;chr&gt;</th></tr>\n",
       "</thead>\n",
       "<tbody>\n",
       "\t<tr><td>Albania  </td><td>Tirana               </td><td>Ecovolis            </td><td>NA            </td><td>NA                            </td><td>March 2011      </td><td>NA                  </td><td>8  </td><td>200 </td><td>NA   </td></tr>\n",
       "\t<tr><td>Argentina</td><td>Mendoza              </td><td>Metrobici           </td><td>NA            </td><td>NA                            </td><td>2014            </td><td>NA                  </td><td>2  </td><td>40  </td><td>NA   </td></tr>\n",
       "\t<tr><td>Argentina</td><td>San Lorenzo, Santa Fe</td><td>Biciudad            </td><td>Biciudad      </td><td>NA                            </td><td>27 November 2016</td><td>NA                  </td><td>8  </td><td>80  </td><td>NA   </td></tr>\n",
       "\t<tr><td>Argentina</td><td>Buenos Aires         </td><td>Ecobici             </td><td>Serttel Brasil</td><td>Bike In Baires Consortium.[10]</td><td>2010            </td><td>NA                  </td><td>400</td><td>4000</td><td>21917</td></tr>\n",
       "\t<tr><td>Argentina</td><td>Rosario              </td><td>Mi Bici Tu Bici[11] </td><td>NA            </td><td>NA                            </td><td>2 December 2015 </td><td>NA                  </td><td>47 </td><td>480 </td><td>NA   </td></tr>\n",
       "\t<tr><td>Australia</td><td><span style=white-space:pre-wrap>Melbourne[12]        </span></td><td>Melbourne Bike Share</td><td><span style=white-space:pre-wrap>PBSC &amp; 8D     </span></td><td><span style=white-space:pre-wrap>Motivate                      </span></td><td><span style=white-space:pre-wrap>June 2010       </span></td><td>30 November 2019[13]</td><td>53 </td><td>676 </td><td><span style=white-space:pre-wrap>NA   </span></td></tr>\n",
       "</tbody>\n",
       "</table>\n"
      ],
      "text/latex": [
       "A tibble: 6 × 10\n",
       "\\begin{tabular}{llllllllll}\n",
       " COUNTRY & CITY & NAME & SYSTEM & OPERATOR & LAUNCHED & DISCONTINUED & STATIONS & BICYCLES & DAILY\\_RIDERSHIP\\\\\n",
       " <chr> & <chr> & <chr> & <chr> & <chr> & <chr> & <chr> & <chr> & <chr> & <chr>\\\\\n",
       "\\hline\n",
       "\t Albania   & Tirana                & Ecovolis             & NA             & NA                             & March 2011       & NA                   & 8   & 200  & NA   \\\\\n",
       "\t Argentina & Mendoza               & Metrobici            & NA             & NA                             & 2014             & NA                   & 2   & 40   & NA   \\\\\n",
       "\t Argentina & San Lorenzo, Santa Fe & Biciudad             & Biciudad       & NA                             & 27 November 2016 & NA                   & 8   & 80   & NA   \\\\\n",
       "\t Argentina & Buenos Aires          & Ecobici              & Serttel Brasil & Bike In Baires Consortium.{[}10{]} & 2010             & NA                   & 400 & 4000 & 21917\\\\\n",
       "\t Argentina & Rosario               & Mi Bici Tu Bici{[}11{]}  & NA             & NA                             & 2 December 2015  & NA                   & 47  & 480  & NA   \\\\\n",
       "\t Australia & Melbourne{[}12{]}         & Melbourne Bike Share & PBSC \\& 8D      & Motivate                       & June 2010        & 30 November 2019{[}13{]} & 53  & 676  & NA   \\\\\n",
       "\\end{tabular}\n"
      ],
      "text/markdown": [
       "\n",
       "A tibble: 6 × 10\n",
       "\n",
       "| COUNTRY &lt;chr&gt; | CITY &lt;chr&gt; | NAME &lt;chr&gt; | SYSTEM &lt;chr&gt; | OPERATOR &lt;chr&gt; | LAUNCHED &lt;chr&gt; | DISCONTINUED &lt;chr&gt; | STATIONS &lt;chr&gt; | BICYCLES &lt;chr&gt; | DAILY_RIDERSHIP &lt;chr&gt; |\n",
       "|---|---|---|---|---|---|---|---|---|---|\n",
       "| Albania   | Tirana                | Ecovolis             | NA             | NA                             | March 2011       | NA                   | 8   | 200  | NA    |\n",
       "| Argentina | Mendoza               | Metrobici            | NA             | NA                             | 2014             | NA                   | 2   | 40   | NA    |\n",
       "| Argentina | San Lorenzo, Santa Fe | Biciudad             | Biciudad       | NA                             | 27 November 2016 | NA                   | 8   | 80   | NA    |\n",
       "| Argentina | Buenos Aires          | Ecobici              | Serttel Brasil | Bike In Baires Consortium.[10] | 2010             | NA                   | 400 | 4000 | 21917 |\n",
       "| Argentina | Rosario               | Mi Bici Tu Bici[11]  | NA             | NA                             | 2 December 2015  | NA                   | 47  | 480  | NA    |\n",
       "| Australia | Melbourne[12]         | Melbourne Bike Share | PBSC &amp; 8D      | Motivate                       | June 2010        | 30 November 2019[13] | 53  | 676  | NA    |\n",
       "\n"
      ],
      "text/plain": [
       "  COUNTRY   CITY                  NAME                 SYSTEM        \n",
       "1 Albania   Tirana                Ecovolis             NA            \n",
       "2 Argentina Mendoza               Metrobici            NA            \n",
       "3 Argentina San Lorenzo, Santa Fe Biciudad             Biciudad      \n",
       "4 Argentina Buenos Aires          Ecobici              Serttel Brasil\n",
       "5 Argentina Rosario               Mi Bici Tu Bici[11]  NA            \n",
       "6 Australia Melbourne[12]         Melbourne Bike Share PBSC & 8D     \n",
       "  OPERATOR                       LAUNCHED         DISCONTINUED         STATIONS\n",
       "1 NA                             March 2011       NA                   8       \n",
       "2 NA                             2014             NA                   2       \n",
       "3 NA                             27 November 2016 NA                   8       \n",
       "4 Bike In Baires Consortium.[10] 2010             NA                   400     \n",
       "5 NA                             2 December 2015  NA                   47      \n",
       "6 Motivate                       June 2010        30 November 2019[13] 53      \n",
       "  BICYCLES DAILY_RIDERSHIP\n",
       "1 200      NA             \n",
       "2 40       NA             \n",
       "3 80       NA             \n",
       "4 4000     21917          \n",
       "5 480      NA             \n",
       "6 676      NA             "
      ]
     },
     "metadata": {},
     "output_type": "display_data"
    }
   ],
   "source": [
    "# Print its head\n",
    "head(bike_sharing_df)"
   ]
  },
  {
   "cell_type": "code",
   "execution_count": 24,
   "id": "a88fd229-19f7-46a6-99b4-9ca2ae9ff6ef",
   "metadata": {},
   "outputs": [],
   "source": [
    "# Select the four columns\n",
    "sub_bike_sharing_df <- bike_sharing_df %>% select(COUNTRY, CITY, SYSTEM, BICYCLES)"
   ]
  },
  {
   "cell_type": "code",
   "execution_count": 25,
   "id": "71dd35b4-18a3-4220-a574-52c69ded0b3b",
   "metadata": {},
   "outputs": [
    {
     "data": {
      "text/html": [
       "<table class=\"dataframe\">\n",
       "<caption>A tibble: 4 × 2</caption>\n",
       "<thead>\n",
       "\t<tr><th scope=col>variable</th><th scope=col>class</th></tr>\n",
       "\t<tr><th scope=col>&lt;chr&gt;</th><th scope=col>&lt;chr&gt;</th></tr>\n",
       "</thead>\n",
       "<tbody>\n",
       "\t<tr><td>COUNTRY </td><td>character</td></tr>\n",
       "\t<tr><td>CITY    </td><td>character</td></tr>\n",
       "\t<tr><td>SYSTEM  </td><td>character</td></tr>\n",
       "\t<tr><td>BICYCLES</td><td>character</td></tr>\n",
       "</tbody>\n",
       "</table>\n"
      ],
      "text/latex": [
       "A tibble: 4 × 2\n",
       "\\begin{tabular}{ll}\n",
       " variable & class\\\\\n",
       " <chr> & <chr>\\\\\n",
       "\\hline\n",
       "\t COUNTRY  & character\\\\\n",
       "\t CITY     & character\\\\\n",
       "\t SYSTEM   & character\\\\\n",
       "\t BICYCLES & character\\\\\n",
       "\\end{tabular}\n"
      ],
      "text/markdown": [
       "\n",
       "A tibble: 4 × 2\n",
       "\n",
       "| variable &lt;chr&gt; | class &lt;chr&gt; |\n",
       "|---|---|\n",
       "| COUNTRY  | character |\n",
       "| CITY     | character |\n",
       "| SYSTEM   | character |\n",
       "| BICYCLES | character |\n",
       "\n"
      ],
      "text/plain": [
       "  variable class    \n",
       "1 COUNTRY  character\n",
       "2 CITY     character\n",
       "3 SYSTEM   character\n",
       "4 BICYCLES character"
      ]
     },
     "metadata": {},
     "output_type": "display_data"
    }
   ],
   "source": [
    "sub_bike_sharing_df %>% \n",
    "    summarize_all(class) %>%\n",
    "    gather(variable, class)"
   ]
  },
  {
   "cell_type": "code",
   "execution_count": 26,
   "id": "06d854dd-d565-4317-9da9-a6e0693c41e5",
   "metadata": {},
   "outputs": [],
   "source": [
    "# grepl searches a string for non-digital characters, and returns TRUE or FALSE\n",
    "# if it finds any non-digital characters, then the bicyle column is not purely numeric\n",
    "find_character <- function(strings) grepl(\"[^0-9]\", strings)"
   ]
  },
  {
   "cell_type": "code",
   "execution_count": 27,
   "id": "e8e39a5f-c979-4eca-b203-ad5b50cde996",
   "metadata": {},
   "outputs": [
    {
     "data": {
      "text/html": [
       "<table class=\"dataframe\">\n",
       "<caption>A tibble: 10 × 1</caption>\n",
       "<thead>\n",
       "\t<tr><th scope=col>BICYCLES</th></tr>\n",
       "\t<tr><th scope=col>&lt;chr&gt;</th></tr>\n",
       "</thead>\n",
       "<tbody>\n",
       "\t<tr><td>4115[22]                  </td></tr>\n",
       "\t<tr><td>310[59]                   </td></tr>\n",
       "\t<tr><td>500[72]                   </td></tr>\n",
       "\t<tr><td>[75]                      </td></tr>\n",
       "\t<tr><td>180[76]                   </td></tr>\n",
       "\t<tr><td>600[77]                   </td></tr>\n",
       "\t<tr><td>[78]                      </td></tr>\n",
       "\t<tr><td>initially 800 (later 2500)</td></tr>\n",
       "\t<tr><td>100 (220)                 </td></tr>\n",
       "\t<tr><td>370[114]                  </td></tr>\n",
       "</tbody>\n",
       "</table>\n"
      ],
      "text/latex": [
       "A tibble: 10 × 1\n",
       "\\begin{tabular}{l}\n",
       " BICYCLES\\\\\n",
       " <chr>\\\\\n",
       "\\hline\n",
       "\t 4115{[}22{]}                  \\\\\n",
       "\t 310{[}59{]}                   \\\\\n",
       "\t 500{[}72{]}                   \\\\\n",
       "\t {[}75{]}                      \\\\\n",
       "\t 180{[}76{]}                   \\\\\n",
       "\t 600{[}77{]}                   \\\\\n",
       "\t {[}78{]}                      \\\\\n",
       "\t initially 800 (later 2500)\\\\\n",
       "\t 100 (220)                 \\\\\n",
       "\t 370{[}114{]}                  \\\\\n",
       "\\end{tabular}\n"
      ],
      "text/markdown": [
       "\n",
       "A tibble: 10 × 1\n",
       "\n",
       "| BICYCLES &lt;chr&gt; |\n",
       "|---|\n",
       "| 4115[22]                   |\n",
       "| 310[59]                    |\n",
       "| 500[72]                    |\n",
       "| [75]                       |\n",
       "| 180[76]                    |\n",
       "| 600[77]                    |\n",
       "| [78]                       |\n",
       "| initially 800 (later 2500) |\n",
       "| 100 (220)                  |\n",
       "| 370[114]                   |\n",
       "\n"
      ],
      "text/plain": [
       "   BICYCLES                  \n",
       "1  4115[22]                  \n",
       "2  310[59]                   \n",
       "3  500[72]                   \n",
       "4  [75]                      \n",
       "5  180[76]                   \n",
       "6  600[77]                   \n",
       "7  [78]                      \n",
       "8  initially 800 (later 2500)\n",
       "9  100 (220)                 \n",
       "10 370[114]                  "
      ]
     },
     "metadata": {},
     "output_type": "display_data"
    }
   ],
   "source": [
    "sub_bike_sharing_df %>% \n",
    "    select(BICYCLES) %>% \n",
    "    filter(find_character(BICYCLES)) %>%\n",
    "    slice(0:10)"
   ]
  },
  {
   "cell_type": "code",
   "execution_count": 28,
   "id": "6a408501-81df-4c04-8d08-cae4bc6558e6",
   "metadata": {},
   "outputs": [],
   "source": [
    "# Define a 'reference link' character class, \n",
    "# `[A-z0-9]` means at least one character \n",
    "# `\\\\[` and `\\\\]` means the character is wrapped by [], such as for [12] or [abc]\n",
    "ref_pattern <- \"\\\\[[A-z0-9]+\\\\]\"\n",
    "find_reference_pattern <- function(strings) grepl(ref_pattern, strings)"
   ]
  },
  {
   "cell_type": "code",
   "execution_count": 29,
   "id": "51ecbbd0-ffb6-4754-b3ae-30eac6c5f5ef",
   "metadata": {},
   "outputs": [
    {
     "data": {
      "text/html": [
       "<table class=\"dataframe\">\n",
       "<caption>A tibble: 0 × 1</caption>\n",
       "<thead>\n",
       "\t<tr><th scope=col>COUNTRY</th></tr>\n",
       "\t<tr><th scope=col>&lt;chr&gt;</th></tr>\n",
       "</thead>\n",
       "<tbody>\n",
       "</tbody>\n",
       "</table>\n"
      ],
      "text/latex": [
       "A tibble: 0 × 1\n",
       "\\begin{tabular}{l}\n",
       " COUNTRY\\\\\n",
       " <chr>\\\\\n",
       "\\hline\n",
       "\\end{tabular}\n"
      ],
      "text/markdown": [
       "\n",
       "A tibble: 0 × 1\n",
       "\n",
       "| COUNTRY &lt;chr&gt; |\n",
       "|---|\n",
       "\n"
      ],
      "text/plain": [
       "     COUNTRY"
      ]
     },
     "metadata": {},
     "output_type": "display_data"
    }
   ],
   "source": [
    "# Check whether the COUNTRY column has any reference links\n",
    "sub_bike_sharing_df %>% \n",
    "    select(COUNTRY) %>% \n",
    "    filter(find_reference_pattern(COUNTRY)) %>%\n",
    "    slice(0:10)"
   ]
  },
  {
   "cell_type": "code",
   "execution_count": 30,
   "id": "ea913a09-5a9f-434f-a44f-4e19e9ffd28b",
   "metadata": {},
   "outputs": [
    {
     "data": {
      "text/html": [
       "<table class=\"dataframe\">\n",
       "<caption>A tibble: 10 × 1</caption>\n",
       "<thead>\n",
       "\t<tr><th scope=col>CITY</th></tr>\n",
       "\t<tr><th scope=col>&lt;chr&gt;</th></tr>\n",
       "</thead>\n",
       "<tbody>\n",
       "\t<tr><td>Melbourne[12]        </td></tr>\n",
       "\t<tr><td>Brisbane[14][15]     </td></tr>\n",
       "\t<tr><td>Lower Austria[18]    </td></tr>\n",
       "\t<tr><td>Namur[19]            </td></tr>\n",
       "\t<tr><td>Brussels[21]         </td></tr>\n",
       "\t<tr><td>Salvador[23]         </td></tr>\n",
       "\t<tr><td>Belo Horizonte[24]   </td></tr>\n",
       "\t<tr><td>João Pessoa[25]      </td></tr>\n",
       "\t<tr><td>(Pedro de) Toledo[26]</td></tr>\n",
       "\t<tr><td>Rio de Janeiro[27]   </td></tr>\n",
       "</tbody>\n",
       "</table>\n"
      ],
      "text/latex": [
       "A tibble: 10 × 1\n",
       "\\begin{tabular}{l}\n",
       " CITY\\\\\n",
       " <chr>\\\\\n",
       "\\hline\n",
       "\t Melbourne{[}12{]}        \\\\\n",
       "\t Brisbane{[}14{]}{[}15{]}     \\\\\n",
       "\t Lower Austria{[}18{]}    \\\\\n",
       "\t Namur{[}19{]}            \\\\\n",
       "\t Brussels{[}21{]}         \\\\\n",
       "\t Salvador{[}23{]}         \\\\\n",
       "\t Belo Horizonte{[}24{]}   \\\\\n",
       "\t João Pessoa{[}25{]}      \\\\\n",
       "\t (Pedro de) Toledo{[}26{]}\\\\\n",
       "\t Rio de Janeiro{[}27{]}   \\\\\n",
       "\\end{tabular}\n"
      ],
      "text/markdown": [
       "\n",
       "A tibble: 10 × 1\n",
       "\n",
       "| CITY &lt;chr&gt; |\n",
       "|---|\n",
       "| Melbourne[12]         |\n",
       "| Brisbane[14][15]      |\n",
       "| Lower Austria[18]     |\n",
       "| Namur[19]             |\n",
       "| Brussels[21]          |\n",
       "| Salvador[23]          |\n",
       "| Belo Horizonte[24]    |\n",
       "| João Pessoa[25]       |\n",
       "| (Pedro de) Toledo[26] |\n",
       "| Rio de Janeiro[27]    |\n",
       "\n"
      ],
      "text/plain": [
       "   CITY                 \n",
       "1  Melbourne[12]        \n",
       "2  Brisbane[14][15]     \n",
       "3  Lower Austria[18]    \n",
       "4  Namur[19]            \n",
       "5  Brussels[21]         \n",
       "6  Salvador[23]         \n",
       "7  Belo Horizonte[24]   \n",
       "8  João Pessoa[25]      \n",
       "9  (Pedro de) Toledo[26]\n",
       "10 Rio de Janeiro[27]   "
      ]
     },
     "metadata": {},
     "output_type": "display_data"
    }
   ],
   "source": [
    "# Check whether the CITY column has any reference links\n",
    "sub_bike_sharing_df %>% \n",
    "    select(CITY) %>% \n",
    "    filter(find_reference_pattern(CITY)) %>%\n",
    "    slice(0:10)"
   ]
  },
  {
   "cell_type": "code",
   "execution_count": 31,
   "id": "718e764a-b6c2-4eda-98a1-72042729791c",
   "metadata": {},
   "outputs": [
    {
     "data": {
      "text/html": [
       "<table class=\"dataframe\">\n",
       "<caption>A tibble: 7 × 1</caption>\n",
       "<thead>\n",
       "\t<tr><th scope=col>SYSTEM</th></tr>\n",
       "\t<tr><th scope=col>&lt;chr&gt;</th></tr>\n",
       "</thead>\n",
       "<tbody>\n",
       "\t<tr><td>EasyBike[58]                     </td></tr>\n",
       "\t<tr><td>4 Gen.[61]                       </td></tr>\n",
       "\t<tr><td>3 Gen. SmooveKey[113]            </td></tr>\n",
       "\t<tr><td>3 Gen. Smoove[141][142][143][139]</td></tr>\n",
       "\t<tr><td>3 Gen. Smoove[179]               </td></tr>\n",
       "\t<tr><td>3 Gen. Smoove[181]               </td></tr>\n",
       "\t<tr><td>3 Gen. Smoove[183]               </td></tr>\n",
       "</tbody>\n",
       "</table>\n"
      ],
      "text/latex": [
       "A tibble: 7 × 1\n",
       "\\begin{tabular}{l}\n",
       " SYSTEM\\\\\n",
       " <chr>\\\\\n",
       "\\hline\n",
       "\t EasyBike{[}58{]}                     \\\\\n",
       "\t 4 Gen.{[}61{]}                       \\\\\n",
       "\t 3 Gen. SmooveKey{[}113{]}            \\\\\n",
       "\t 3 Gen. Smoove{[}141{]}{[}142{]}{[}143{]}{[}139{]}\\\\\n",
       "\t 3 Gen. Smoove{[}179{]}               \\\\\n",
       "\t 3 Gen. Smoove{[}181{]}               \\\\\n",
       "\t 3 Gen. Smoove{[}183{]}               \\\\\n",
       "\\end{tabular}\n"
      ],
      "text/markdown": [
       "\n",
       "A tibble: 7 × 1\n",
       "\n",
       "| SYSTEM &lt;chr&gt; |\n",
       "|---|\n",
       "| EasyBike[58]                      |\n",
       "| 4 Gen.[61]                        |\n",
       "| 3 Gen. SmooveKey[113]             |\n",
       "| 3 Gen. Smoove[141][142][143][139] |\n",
       "| 3 Gen. Smoove[179]                |\n",
       "| 3 Gen. Smoove[181]                |\n",
       "| 3 Gen. Smoove[183]                |\n",
       "\n"
      ],
      "text/plain": [
       "  SYSTEM                           \n",
       "1 EasyBike[58]                     \n",
       "2 4 Gen.[61]                       \n",
       "3 3 Gen. SmooveKey[113]            \n",
       "4 3 Gen. Smoove[141][142][143][139]\n",
       "5 3 Gen. Smoove[179]               \n",
       "6 3 Gen. Smoove[181]               \n",
       "7 3 Gen. Smoove[183]               "
      ]
     },
     "metadata": {},
     "output_type": "display_data"
    }
   ],
   "source": [
    "# Check whether the System column has any reference links\n",
    "sub_bike_sharing_df %>% \n",
    "    select(SYSTEM) %>% \n",
    "    filter(find_reference_pattern(SYSTEM)) %>%\n",
    "    slice(0:10)"
   ]
  },
  {
   "cell_type": "code",
   "execution_count": 33,
   "id": "eeace78f-d24b-42fc-b719-986d4025829b",
   "metadata": {},
   "outputs": [],
   "source": [
    "remove_ref <- function(x) {\n",
    "  str_replace_all(x, ref_pattern, \"\")\n",
    "}"
   ]
  },
  {
   "cell_type": "code",
   "execution_count": 34,
   "id": "4ec50d7b-b45a-4650-8f35-b691203eebaa",
   "metadata": {},
   "outputs": [],
   "source": [
    "sub_bike_sharing_df <- sub_bike_sharing_df %>%\n",
    "  mutate(\n",
    "    CITY = remove_ref(CITY),\n",
    "    SYSTEM = remove_ref(SYSTEM),\n",
    "    BICYCLES = remove_ref(BICYCLES)\n",
    "  )\n"
   ]
  },
  {
   "cell_type": "code",
   "execution_count": 36,
   "id": "77545433-4b41-4322-a245-4232e57091d0",
   "metadata": {},
   "outputs": [
    {
     "data": {
      "text/html": [
       "<table class=\"dataframe\">\n",
       "<caption>A tibble: 0 × 3</caption>\n",
       "<thead>\n",
       "\t<tr><th scope=col>CITY</th><th scope=col>SYSTEM</th><th scope=col>BICYCLES</th></tr>\n",
       "\t<tr><th scope=col>&lt;chr&gt;</th><th scope=col>&lt;chr&gt;</th><th scope=col>&lt;chr&gt;</th></tr>\n",
       "</thead>\n",
       "<tbody>\n",
       "</tbody>\n",
       "</table>\n"
      ],
      "text/latex": [
       "A tibble: 0 × 3\n",
       "\\begin{tabular}{lll}\n",
       " CITY & SYSTEM & BICYCLES\\\\\n",
       " <chr> & <chr> & <chr>\\\\\n",
       "\\hline\n",
       "\\end{tabular}\n"
      ],
      "text/markdown": [
       "\n",
       "A tibble: 0 × 3\n",
       "\n",
       "| CITY &lt;chr&gt; | SYSTEM &lt;chr&gt; | BICYCLES &lt;chr&gt; |\n",
       "|---|---|---|\n",
       "\n"
      ],
      "text/plain": [
       "     CITY SYSTEM BICYCLES"
      ]
     },
     "metadata": {},
     "output_type": "display_data"
    }
   ],
   "source": [
    "sub_bike_sharing_df %>% \n",
    "  select(CITY, SYSTEM, BICYCLES) %>% \n",
    "  filter(find_reference_pattern(CITY) | find_reference_pattern(SYSTEM) | find_reference_pattern(BICYCLES))\n"
   ]
  },
  {
   "cell_type": "code",
   "execution_count": 37,
   "id": "e10de9ea-8066-4b29-bdf9-beefabf5125e",
   "metadata": {},
   "outputs": [
    {
     "data": {
      "text/html": [
       "<table class=\"dataframe\">\n",
       "<caption>A tibble: 6 × 4</caption>\n",
       "<thead>\n",
       "\t<tr><th scope=col>COUNTRY</th><th scope=col>CITY</th><th scope=col>SYSTEM</th><th scope=col>BICYCLES</th></tr>\n",
       "\t<tr><th scope=col>&lt;chr&gt;</th><th scope=col>&lt;chr&gt;</th><th scope=col>&lt;chr&gt;</th><th scope=col>&lt;chr&gt;</th></tr>\n",
       "</thead>\n",
       "<tbody>\n",
       "\t<tr><td>Albania  </td><td>Tirana               </td><td>NA            </td><td>200 </td></tr>\n",
       "\t<tr><td>Argentina</td><td>Mendoza              </td><td>NA            </td><td>40  </td></tr>\n",
       "\t<tr><td>Argentina</td><td>San Lorenzo, Santa Fe</td><td>Biciudad      </td><td>80  </td></tr>\n",
       "\t<tr><td>Argentina</td><td>Buenos Aires         </td><td>Serttel Brasil</td><td>4000</td></tr>\n",
       "\t<tr><td>Argentina</td><td>Rosario              </td><td>NA            </td><td>480 </td></tr>\n",
       "\t<tr><td>Australia</td><td><span style=white-space:pre-wrap>Melbourne            </span></td><td><span style=white-space:pre-wrap>PBSC &amp; 8D     </span></td><td>676 </td></tr>\n",
       "</tbody>\n",
       "</table>\n"
      ],
      "text/latex": [
       "A tibble: 6 × 4\n",
       "\\begin{tabular}{llll}\n",
       " COUNTRY & CITY & SYSTEM & BICYCLES\\\\\n",
       " <chr> & <chr> & <chr> & <chr>\\\\\n",
       "\\hline\n",
       "\t Albania   & Tirana                & NA             & 200 \\\\\n",
       "\t Argentina & Mendoza               & NA             & 40  \\\\\n",
       "\t Argentina & San Lorenzo, Santa Fe & Biciudad       & 80  \\\\\n",
       "\t Argentina & Buenos Aires          & Serttel Brasil & 4000\\\\\n",
       "\t Argentina & Rosario               & NA             & 480 \\\\\n",
       "\t Australia & Melbourne             & PBSC \\& 8D      & 676 \\\\\n",
       "\\end{tabular}\n"
      ],
      "text/markdown": [
       "\n",
       "A tibble: 6 × 4\n",
       "\n",
       "| COUNTRY &lt;chr&gt; | CITY &lt;chr&gt; | SYSTEM &lt;chr&gt; | BICYCLES &lt;chr&gt; |\n",
       "|---|---|---|---|\n",
       "| Albania   | Tirana                | NA             | 200  |\n",
       "| Argentina | Mendoza               | NA             | 40   |\n",
       "| Argentina | San Lorenzo, Santa Fe | Biciudad       | 80   |\n",
       "| Argentina | Buenos Aires          | Serttel Brasil | 4000 |\n",
       "| Argentina | Rosario               | NA             | 480  |\n",
       "| Australia | Melbourne             | PBSC &amp; 8D      | 676  |\n",
       "\n"
      ],
      "text/plain": [
       "  COUNTRY   CITY                  SYSTEM         BICYCLES\n",
       "1 Albania   Tirana                NA             200     \n",
       "2 Argentina Mendoza               NA             40      \n",
       "3 Argentina San Lorenzo, Santa Fe Biciudad       80      \n",
       "4 Argentina Buenos Aires          Serttel Brasil 4000    \n",
       "5 Argentina Rosario               NA             480     \n",
       "6 Australia Melbourne             PBSC & 8D      676     "
      ]
     },
     "metadata": {},
     "output_type": "display_data"
    }
   ],
   "source": [
    "head(sub_bike_sharing_df)"
   ]
  },
  {
   "cell_type": "code",
   "execution_count": 38,
   "id": "8567d630-7a1c-49c5-a155-9a8f2cd3c9ca",
   "metadata": {},
   "outputs": [],
   "source": [
    "library(stringr)\n",
    "library(dplyr)\n",
    "\n",
    "extract_num <- function(columns) {\n",
    "  digitals_pattern <- \"\\\\d+\"\n",
    "  as.numeric(str_extract(columns, digitals_pattern))\n",
    "}\n",
    "\n",
    "sub_bike_sharing_df <- sub_bike_sharing_df %>%\n",
    "  mutate(BICYCLES = extract_num(BICYCLES))\n"
   ]
  },
  {
   "cell_type": "code",
   "execution_count": 39,
   "id": "b1ab89a6-4913-459f-b458-65ad8b0dfc21",
   "metadata": {},
   "outputs": [
    {
     "data": {
      "text/plain": [
       "   Min. 1st Qu.  Median    Mean 3rd Qu.    Max.    NA's \n",
       "      5     100     350    2022    1400   78000      78 "
      ]
     },
     "metadata": {},
     "output_type": "display_data"
    }
   ],
   "source": [
    "summary(sub_bike_sharing_df$BICYCLES)"
   ]
  },
  {
   "cell_type": "code",
   "execution_count": 40,
   "id": "a86d7f71-a5d6-4669-902d-e2785c312c55",
   "metadata": {},
   "outputs": [],
   "source": [
    "write.csv(sub_bike_sharing_df, \"bike_sharing_systems.csv\", row.names = FALSE)\n"
   ]
  },
  {
   "cell_type": "code",
   "execution_count": null,
   "id": "a2230db8-3ac2-445b-8148-9d18856cf006",
   "metadata": {},
   "outputs": [],
   "source": []
  }
 ],
 "metadata": {
  "kernelspec": {
   "display_name": "R",
   "language": "R",
   "name": "ir"
  },
  "language_info": {
   "codemirror_mode": "r",
   "file_extension": ".r",
   "mimetype": "text/x-r-source",
   "name": "R",
   "pygments_lexer": "r",
   "version": "4.4.3"
  }
 },
 "nbformat": 4,
 "nbformat_minor": 5
}
