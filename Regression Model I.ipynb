{
 "cells": [
  {
   "cell_type": "code",
   "execution_count": 1,
   "id": "f3be9f72-8443-463b-b8fd-2adbf5701013",
   "metadata": {},
   "outputs": [
    {
     "name": "stdout",
     "output_type": "stream",
     "text": [
      "\n",
      "The downloaded binary packages are in\n",
      "\t/var/folders/wy/f2g87lw121qf8pt2k7_d4ysr0000gn/T//Rtmpuihx4D/downloaded_packages\n"
     ]
    }
   ],
   "source": [
    "install.packages(\"tidyverse\")"
   ]
  },
  {
   "cell_type": "code",
   "execution_count": 2,
   "id": "2c7a2635-1084-47bb-97c7-af860e697645",
   "metadata": {},
   "outputs": [
    {
     "name": "stderr",
     "output_type": "stream",
     "text": [
      "also installing the dependency ‘tune’\n",
      "\n",
      "\n"
     ]
    },
    {
     "name": "stdout",
     "output_type": "stream",
     "text": [
      "\n",
      "The downloaded binary packages are in\n",
      "\t/var/folders/wy/f2g87lw121qf8pt2k7_d4ysr0000gn/T//Rtmpuihx4D/downloaded_packages\n"
     ]
    }
   ],
   "source": [
    "install.packages(\"tidymodels\")"
   ]
  },
  {
   "cell_type": "code",
   "execution_count": 3,
   "id": "c6503377-51ea-4046-b9c9-e5f00e3274a0",
   "metadata": {},
   "outputs": [
    {
     "name": "stdout",
     "output_type": "stream",
     "text": [
      "\n",
      "The downloaded binary packages are in\n",
      "\t/var/folders/wy/f2g87lw121qf8pt2k7_d4ysr0000gn/T//Rtmpuihx4D/downloaded_packages\n"
     ]
    }
   ],
   "source": [
    "install.packages(\"rlang\")"
   ]
  },
  {
   "cell_type": "code",
   "execution_count": 4,
   "id": "b3f3f9bf-6ed6-4c45-8732-59b6acd39a37",
   "metadata": {},
   "outputs": [
    {
     "name": "stderr",
     "output_type": "stream",
     "text": [
      "── \u001b[1mAttaching packages\u001b[22m ────────────────────────────────────── tidymodels 1.3.0 ──\n",
      "\n",
      "\u001b[32m✔\u001b[39m \u001b[34mbroom       \u001b[39m 1.0.7     \u001b[32m✔\u001b[39m \u001b[34mrecipes     \u001b[39m 1.1.1\n",
      "\u001b[32m✔\u001b[39m \u001b[34mdials       \u001b[39m 1.4.0     \u001b[32m✔\u001b[39m \u001b[34mrsample     \u001b[39m 1.2.1\n",
      "\u001b[32m✔\u001b[39m \u001b[34mdplyr       \u001b[39m 1.1.4     \u001b[32m✔\u001b[39m \u001b[34mtibble      \u001b[39m 3.2.1\n",
      "\u001b[32m✔\u001b[39m \u001b[34mggplot2     \u001b[39m 3.5.1     \u001b[32m✔\u001b[39m \u001b[34mtidyr       \u001b[39m 1.3.1\n",
      "\u001b[32m✔\u001b[39m \u001b[34minfer       \u001b[39m 1.0.7     \u001b[32m✔\u001b[39m \u001b[34mtune        \u001b[39m 1.3.0\n",
      "\u001b[32m✔\u001b[39m \u001b[34mmodeldata   \u001b[39m 1.4.0     \u001b[32m✔\u001b[39m \u001b[34mworkflows   \u001b[39m 1.2.0\n",
      "\u001b[32m✔\u001b[39m \u001b[34mparsnip     \u001b[39m 1.3.0     \u001b[32m✔\u001b[39m \u001b[34mworkflowsets\u001b[39m 1.1.0\n",
      "\u001b[32m✔\u001b[39m \u001b[34mpurrr       \u001b[39m 1.0.4     \u001b[32m✔\u001b[39m \u001b[34myardstick   \u001b[39m 1.3.2\n",
      "\n",
      "── \u001b[1mConflicts\u001b[22m ───────────────────────────────────────── tidymodels_conflicts() ──\n",
      "\u001b[31m✖\u001b[39m \u001b[34mpurrr\u001b[39m::\u001b[32mdiscard()\u001b[39m masks \u001b[34mscales\u001b[39m::discard()\n",
      "\u001b[31m✖\u001b[39m \u001b[34mdplyr\u001b[39m::\u001b[32mfilter()\u001b[39m  masks \u001b[34mstats\u001b[39m::filter()\n",
      "\u001b[31m✖\u001b[39m \u001b[34mdplyr\u001b[39m::\u001b[32mlag()\u001b[39m     masks \u001b[34mstats\u001b[39m::lag()\n",
      "\u001b[31m✖\u001b[39m \u001b[34mrecipes\u001b[39m::\u001b[32mstep()\u001b[39m  masks \u001b[34mstats\u001b[39m::step()\n",
      "\n",
      "── \u001b[1mAttaching core tidyverse packages\u001b[22m ──────────────────────── tidyverse 2.0.0 ──\n",
      "\u001b[32m✔\u001b[39m \u001b[34mforcats  \u001b[39m 1.0.0     \u001b[32m✔\u001b[39m \u001b[34mreadr    \u001b[39m 2.1.5\n",
      "\u001b[32m✔\u001b[39m \u001b[34mlubridate\u001b[39m 1.9.4     \u001b[32m✔\u001b[39m \u001b[34mstringr  \u001b[39m 1.5.1\n",
      "── \u001b[1mConflicts\u001b[22m ────────────────────────────────────────── tidyverse_conflicts() ──\n",
      "\u001b[31m✖\u001b[39m \u001b[34mreadr\u001b[39m::\u001b[32mcol_factor()\u001b[39m masks \u001b[34mscales\u001b[39m::col_factor()\n",
      "\u001b[31m✖\u001b[39m \u001b[34mpurrr\u001b[39m::\u001b[32mdiscard()\u001b[39m    masks \u001b[34mscales\u001b[39m::discard()\n",
      "\u001b[31m✖\u001b[39m \u001b[34mdplyr\u001b[39m::\u001b[32mfilter()\u001b[39m     masks \u001b[34mstats\u001b[39m::filter()\n",
      "\u001b[31m✖\u001b[39m \u001b[34mstringr\u001b[39m::\u001b[32mfixed()\u001b[39m    masks \u001b[34mrecipes\u001b[39m::fixed()\n",
      "\u001b[31m✖\u001b[39m \u001b[34mdplyr\u001b[39m::\u001b[32mlag()\u001b[39m        masks \u001b[34mstats\u001b[39m::lag()\n",
      "\u001b[31m✖\u001b[39m \u001b[34mreadr\u001b[39m::\u001b[32mspec()\u001b[39m       masks \u001b[34myardstick\u001b[39m::spec()\n",
      "\u001b[36mℹ\u001b[39m Use the conflicted package (\u001b[3m\u001b[34m<http://conflicted.r-lib.org/>\u001b[39m\u001b[23m) to force all conflicts to become errors\n"
     ]
    }
   ],
   "source": [
    "library(\"tidymodels\")\n",
    "library(\"tidyverse\")\n",
    "library(\"stringr\")"
   ]
  },
  {
   "cell_type": "code",
   "execution_count": 5,
   "id": "4a27cd83-93ee-47f8-9ce3-5cf4c7b5d484",
   "metadata": {},
   "outputs": [
    {
     "name": "stderr",
     "output_type": "stream",
     "text": [
      "\u001b[1mRows: \u001b[22m\u001b[34m8465\u001b[39m \u001b[1mColumns: \u001b[22m\u001b[34m41\u001b[39m\n",
      "\u001b[36m──\u001b[39m \u001b[1mColumn specification\u001b[22m \u001b[36m────────────────────────────────────────────────────────\u001b[39m\n",
      "\u001b[1mDelimiter:\u001b[22m \",\"\n",
      "\u001b[31mchr\u001b[39m  (2): DATE, FUNCTIONING_DAY\n",
      "\u001b[32mdbl\u001b[39m (39): RENTED_BIKE_COUNT, TEMPERATURE, HUMIDITY, WIND_SPEED, VISIBILITY, ...\n",
      "\n",
      "\u001b[36mℹ\u001b[39m Use `spec()` to retrieve the full column specification for this data.\n",
      "\u001b[36mℹ\u001b[39m Specify the column types or set `show_col_types = FALSE` to quiet this message.\n"
     ]
    },
    {
     "data": {
      "text/plain": [
       "cols(\n",
       "  DATE = \u001b[31mcol_character()\u001b[39m,\n",
       "  RENTED_BIKE_COUNT = \u001b[32mcol_double()\u001b[39m,\n",
       "  TEMPERATURE = \u001b[32mcol_double()\u001b[39m,\n",
       "  HUMIDITY = \u001b[32mcol_double()\u001b[39m,\n",
       "  WIND_SPEED = \u001b[32mcol_double()\u001b[39m,\n",
       "  VISIBILITY = \u001b[32mcol_double()\u001b[39m,\n",
       "  DEW_POINT_TEMPERATURE = \u001b[32mcol_double()\u001b[39m,\n",
       "  SOLAR_RADIATION = \u001b[32mcol_double()\u001b[39m,\n",
       "  RAINFALL = \u001b[32mcol_double()\u001b[39m,\n",
       "  SNOWFALL = \u001b[32mcol_double()\u001b[39m,\n",
       "  FUNCTIONING_DAY = \u001b[31mcol_character()\u001b[39m,\n",
       "  `0` = \u001b[32mcol_double()\u001b[39m,\n",
       "  `1` = \u001b[32mcol_double()\u001b[39m,\n",
       "  `10` = \u001b[32mcol_double()\u001b[39m,\n",
       "  `11` = \u001b[32mcol_double()\u001b[39m,\n",
       "  `12` = \u001b[32mcol_double()\u001b[39m,\n",
       "  `13` = \u001b[32mcol_double()\u001b[39m,\n",
       "  `14` = \u001b[32mcol_double()\u001b[39m,\n",
       "  `15` = \u001b[32mcol_double()\u001b[39m,\n",
       "  `16` = \u001b[32mcol_double()\u001b[39m,\n",
       "  `17` = \u001b[32mcol_double()\u001b[39m,\n",
       "  `18` = \u001b[32mcol_double()\u001b[39m,\n",
       "  `19` = \u001b[32mcol_double()\u001b[39m,\n",
       "  `2` = \u001b[32mcol_double()\u001b[39m,\n",
       "  `20` = \u001b[32mcol_double()\u001b[39m,\n",
       "  `21` = \u001b[32mcol_double()\u001b[39m,\n",
       "  `22` = \u001b[32mcol_double()\u001b[39m,\n",
       "  `23` = \u001b[32mcol_double()\u001b[39m,\n",
       "  `3` = \u001b[32mcol_double()\u001b[39m,\n",
       "  `4` = \u001b[32mcol_double()\u001b[39m,\n",
       "  `5` = \u001b[32mcol_double()\u001b[39m,\n",
       "  `6` = \u001b[32mcol_double()\u001b[39m,\n",
       "  `7` = \u001b[32mcol_double()\u001b[39m,\n",
       "  `8` = \u001b[32mcol_double()\u001b[39m,\n",
       "  `9` = \u001b[32mcol_double()\u001b[39m,\n",
       "  AUTUMN = \u001b[32mcol_double()\u001b[39m,\n",
       "  SPRING = \u001b[32mcol_double()\u001b[39m,\n",
       "  SUMMER = \u001b[32mcol_double()\u001b[39m,\n",
       "  WINTER = \u001b[32mcol_double()\u001b[39m,\n",
       "  HOLIDAY = \u001b[32mcol_double()\u001b[39m,\n",
       "  NO_HOLIDAY = \u001b[32mcol_double()\u001b[39m\n",
       ")"
      ]
     },
     "metadata": {},
     "output_type": "display_data"
    }
   ],
   "source": [
    "# Dataset URL\n",
    "dataset_url <- \"https://cf-courses-data.s3.us.cloud-object-storage.appdomain.cloud/IBMDeveloperSkillsNetwork-RP0321EN-SkillsNetwork/labs/datasets/seoul_bike_sharing_converted_normalized.csv\"\n",
    "bike_sharing_df <- read_csv(dataset_url)\n",
    "spec(bike_sharing_df)"
   ]
  },
  {
   "cell_type": "code",
   "execution_count": 6,
   "id": "0ac12036-73a8-4165-80f5-0ce24e41a07f",
   "metadata": {},
   "outputs": [],
   "source": [
    "bike_sharing_df <- bike_sharing_df %>% \n",
    "                   select(-DATE, -FUNCTIONING_DAY)"
   ]
  },
  {
   "cell_type": "code",
   "execution_count": 7,
   "id": "fff56b18-2b9c-46af-8383-cb76959259a7",
   "metadata": {},
   "outputs": [],
   "source": [
    "set.seed(1234)\n",
    "\n",
    "# Split the data: 75% train, 25% test\n",
    "split <- initial_split(bike_sharing_df, prop = 3/4)\n",
    "\n",
    "# Create training and testing datasets\n",
    "train_data <- training(split)\n",
    "test_data  <- testing(split)\n"
   ]
  },
  {
   "cell_type": "code",
   "execution_count": 12,
   "id": "a8f3797a-bcd7-49cc-acf6-44f9e2362f60",
   "metadata": {},
   "outputs": [],
   "source": [
    "# Define the linear regression model specification\n",
    "lm_model_spec <- linear_reg() %>%\n",
    "  set_engine(\"lm\") %>%\n",
    "  set_mode(\"regression\")"
   ]
  },
  {
   "cell_type": "code",
   "execution_count": 13,
   "id": "983253a5-4a9c-4115-89cb-91e99a6ebff1",
   "metadata": {},
   "outputs": [],
   "source": [
    "# Fit the model formula and training data\n",
    "lm_model_weather <- lm_model_spec %>%\n",
    "  fit(RENTED_BIKE_COUNT ~ TEMPERATURE + HUMIDITY + WIND_SPEED + VISIBILITY +\n",
    "      DEW_POINT_TEMPERATURE + SOLAR_RADIATION + RAINFALL + SNOWFALL,\n",
    "      data = train_data)"
   ]
  },
  {
   "cell_type": "code",
   "execution_count": 14,
   "id": "9b3c77be-df3d-47aa-8d38-529e55a5e4fb",
   "metadata": {},
   "outputs": [
    {
     "name": "stdout",
     "output_type": "stream",
     "text": [
      "\n",
      "Call:\n",
      "stats::lm(formula = RENTED_BIKE_COUNT ~ TEMPERATURE + HUMIDITY + \n",
      "    WIND_SPEED + VISIBILITY + DEW_POINT_TEMPERATURE + SOLAR_RADIATION + \n",
      "    RAINFALL + SNOWFALL, data = data)\n",
      "\n",
      "Coefficients:\n",
      "          (Intercept)            TEMPERATURE               HUMIDITY  \n",
      "               156.71                2399.74                -918.38  \n",
      "           WIND_SPEED             VISIBILITY  DEW_POINT_TEMPERATURE  \n",
      "               404.47                  12.56                -316.92  \n",
      "      SOLAR_RADIATION               RAINFALL               SNOWFALL  \n",
      "              -444.85               -1764.01                 317.78  \n",
      "\n"
     ]
    }
   ],
   "source": [
    "print(lm_model_weather$fit)"
   ]
  },
  {
   "cell_type": "code",
   "execution_count": 19,
   "id": "08ca3dd1-2b1d-43a0-847f-d222a574175d",
   "metadata": {},
   "outputs": [
    {
     "data": {
      "text/plain": [
       "\n",
       "Call:\n",
       "stats::lm(formula = RENTED_BIKE_COUNT ~ TEMPERATURE + HUMIDITY + \n",
       "    WIND_SPEED + VISIBILITY + DEW_POINT_TEMPERATURE + SOLAR_RADIATION + \n",
       "    RAINFALL + SNOWFALL, data = data)\n",
       "\n",
       "Residuals:\n",
       "     Min       1Q   Median       3Q      Max \n",
       "-1348.46  -294.03   -57.28   208.59  2329.78 \n",
       "\n",
       "Coefficients:\n",
       "                      Estimate Std. Error t value Pr(>|t|)    \n",
       "(Intercept)             156.71      58.07   2.699  0.00698 ** \n",
       "TEMPERATURE            2399.74     261.66   9.171  < 2e-16 ***\n",
       "HUMIDITY               -918.38     126.79  -7.243  4.9e-13 ***\n",
       "WIND_SPEED              404.47      48.16   8.399  < 2e-16 ***\n",
       "VISIBILITY               12.56      24.86   0.505  0.61351    \n",
       "DEW_POINT_TEMPERATURE  -316.92     278.83  -1.137  0.25575    \n",
       "SOLAR_RADIATION        -444.85      34.69 -12.824  < 2e-16 ***\n",
       "RAINFALL              -1764.01     182.65  -9.658  < 2e-16 ***\n",
       "SNOWFALL                317.78     131.58   2.415  0.01576 *  \n",
       "---\n",
       "Signif. codes:  0 ‘***’ 0.001 ‘**’ 0.01 ‘*’ 0.05 ‘.’ 0.1 ‘ ’ 1\n",
       "\n",
       "Residual standard error: 487.3 on 6339 degrees of freedom\n",
       "Multiple R-squared:  0.4303,\tAdjusted R-squared:  0.4296 \n",
       "F-statistic: 598.5 on 8 and 6339 DF,  p-value: < 2.2e-16\n"
      ]
     },
     "metadata": {},
     "output_type": "display_data"
    }
   ],
   "source": [
    "summary(lm_model_weather$fit)"
   ]
  },
  {
   "cell_type": "code",
   "execution_count": 16,
   "id": "be357d30-3dc1-4871-862c-b6ba84806e8e",
   "metadata": {},
   "outputs": [],
   "source": [
    "# Fit the model on train_data using all remaining predictors except response\n",
    "lm_model_all <- lm_model_spec %>%\n",
    "  fit(RENTED_BIKE_COUNT ~ ., data = train_data)"
   ]
  },
  {
   "cell_type": "code",
   "execution_count": 18,
   "id": "7a9ef8f0-d8d6-4385-b2b1-aba4533a667a",
   "metadata": {},
   "outputs": [
    {
     "name": "stdout",
     "output_type": "stream",
     "text": [
      "parsnip model object\n",
      "\n",
      "\n",
      "Call:\n",
      "stats::lm(formula = RENTED_BIKE_COUNT ~ ., data = data)\n",
      "\n",
      "Coefficients:\n",
      "          (Intercept)            TEMPERATURE               HUMIDITY  \n",
      "               212.20                 782.66                -886.73  \n",
      "           WIND_SPEED             VISIBILITY  DEW_POINT_TEMPERATURE  \n",
      "                31.91                  21.87                 598.39  \n",
      "      SOLAR_RADIATION               RAINFALL               SNOWFALL  \n",
      "               276.88               -2064.64                 260.97  \n",
      "                  `0`                    `1`                   `10`  \n",
      "               -29.30                -116.85                -237.52  \n",
      "                 `11`                   `12`                   `13`  \n",
      "              -247.38                -208.34                -191.35  \n",
      "                 `14`                   `15`                   `16`  \n",
      "              -192.44                -109.73                  23.13  \n",
      "                 `17`                   `18`                   `19`  \n",
      "               305.55                 794.80                 522.99  \n",
      "                  `2`                   `20`                   `21`  \n",
      "              -237.21                 432.00                 446.58  \n",
      "                 `22`                   `23`                    `3`  \n",
      "               342.64                 103.81                -319.87  \n",
      "                  `4`                    `5`                    `6`  \n",
      "              -386.29                -362.72                -204.12  \n",
      "                  `7`                    `8`                    `9`  \n",
      "               106.76                 450.98                     NA  \n",
      "               AUTUMN                 SPRING                 SUMMER  \n",
      "               359.00                 191.37                 198.14  \n",
      "               WINTER                HOLIDAY             NO_HOLIDAY  \n",
      "                   NA                -124.42                     NA  \n",
      "\n"
     ]
    }
   ],
   "source": [
    "print(lm_model_all)"
   ]
  },
  {
   "cell_type": "code",
   "execution_count": 17,
   "id": "f26eacd0-a942-4e76-94ad-fec669d65d8f",
   "metadata": {},
   "outputs": [
    {
     "data": {
      "text/plain": [
       "\n",
       "Call:\n",
       "stats::lm(formula = RENTED_BIKE_COUNT ~ ., data = data)\n",
       "\n",
       "Residuals:\n",
       "     Min       1Q   Median       3Q      Max \n",
       "-1401.45  -218.96    -7.31   199.53  1780.67 \n",
       "\n",
       "Coefficients: (3 not defined because of singularities)\n",
       "                      Estimate Std. Error t value Pr(>|t|)    \n",
       "(Intercept)             212.20      51.04   4.158 3.26e-05 ***\n",
       "TEMPERATURE             782.66     212.13   3.690 0.000227 ***\n",
       "HUMIDITY               -886.73      99.49  -8.913  < 2e-16 ***\n",
       "WIND_SPEED               31.91      40.27   0.792 0.428169    \n",
       "VISIBILITY               21.87      20.26   1.079 0.280439    \n",
       "DEW_POINT_TEMPERATURE   598.39     221.37   2.703 0.006888 ** \n",
       "SOLAR_RADIATION         276.88      41.47   6.677 2.64e-11 ***\n",
       "RAINFALL              -2064.64     143.28 -14.410  < 2e-16 ***\n",
       "SNOWFALL                260.97     103.50   2.522 0.011709 *  \n",
       "`0`                     -29.30      34.26  -0.855 0.392515    \n",
       "`1`                    -116.85      33.72  -3.465 0.000533 ***\n",
       "`10`                   -237.52      32.74  -7.255 4.48e-13 ***\n",
       "`11`                   -247.38      33.85  -7.309 3.02e-13 ***\n",
       "`12`                   -208.34      34.39  -6.059 1.45e-09 ***\n",
       "`13`                   -191.35      35.04  -5.461 4.90e-08 ***\n",
       "`14`                   -192.44      34.44  -5.588 2.39e-08 ***\n",
       "`15`                   -109.73      34.40  -3.190 0.001429 ** \n",
       "`16`                     23.13      34.00   0.680 0.496431    \n",
       "`17`                    305.55      34.15   8.946  < 2e-16 ***\n",
       "`18`                    794.80      34.02  23.364  < 2e-16 ***\n",
       "`19`                    522.99      34.25  15.268  < 2e-16 ***\n",
       "`2`                    -237.21      33.74  -7.030 2.28e-12 ***\n",
       "`20`                    432.00      34.13  12.657  < 2e-16 ***\n",
       "`21`                    446.58      34.09  13.100  < 2e-16 ***\n",
       "`22`                    342.64      33.85  10.123  < 2e-16 ***\n",
       "`23`                    103.81      33.85   3.066 0.002175 ** \n",
       "`3`                    -319.87      34.23  -9.346  < 2e-16 ***\n",
       "`4`                    -386.29      34.00 -11.361  < 2e-16 ***\n",
       "`5`                    -362.72      33.48 -10.834  < 2e-16 ***\n",
       "`6`                    -204.12      33.59  -6.076 1.30e-09 ***\n",
       "`7`                     106.76      33.58   3.179 0.001486 ** \n",
       "`8`                     450.98      32.62  13.823  < 2e-16 ***\n",
       "`9`                         NA         NA      NA       NA    \n",
       "AUTUMN                  359.00      20.29  17.694  < 2e-16 ***\n",
       "SPRING                  191.37      19.36   9.884  < 2e-16 ***\n",
       "SUMMER                  198.14      29.19   6.789 1.24e-11 ***\n",
       "WINTER                      NA         NA      NA       NA    \n",
       "HOLIDAY                -124.42      22.95  -5.422 6.11e-08 ***\n",
       "NO_HOLIDAY                  NA         NA      NA       NA    \n",
       "---\n",
       "Signif. codes:  0 ‘***’ 0.001 ‘**’ 0.01 ‘*’ 0.05 ‘.’ 0.1 ‘ ’ 1\n",
       "\n",
       "Residual standard error: 377.9 on 6312 degrees of freedom\n",
       "Multiple R-squared:  0.6589,\tAdjusted R-squared:  0.657 \n",
       "F-statistic: 348.4 on 35 and 6312 DF,  p-value: < 2.2e-16\n"
      ]
     },
     "metadata": {},
     "output_type": "display_data"
    }
   ],
   "source": [
    "summary(lm_model_all$fit)"
   ]
  },
  {
   "cell_type": "code",
   "execution_count": 20,
   "id": "f87c3bca-f687-45a4-9510-f57b229e53b1",
   "metadata": {},
   "outputs": [
    {
     "name": "stderr",
     "output_type": "stream",
     "text": [
      "Warning message:\n",
      "“\u001b[1m\u001b[22mThere was 1 warning in `mutate()`.\n",
      "\u001b[1m\u001b[22m\u001b[36mℹ\u001b[39m In argument: `prediction = predict(lm_model_all, new_data = test_data) %>%\n",
      "  pull(.pred)`.\n",
      "Caused by warning in `predict.lm()`:\n",
      "\u001b[33m!\u001b[39m prediction from rank-deficient fit; consider predict(., rankdeficient=\"NA\")”\n"
     ]
    }
   ],
   "source": [
    "# test data\n",
    "# For lm_model_weather \n",
    "test_results_weather <- test_data %>%\n",
    "  mutate(\n",
    "    prediction = predict(lm_model_weather, new_data = test_data) %>% pull(.pred),\n",
    "    truth = RENTED_BIKE_COUNT\n",
    "  ) %>%\n",
    "  select(truth, prediction)\n",
    "\n",
    "# For lm_model_all \n",
    "test_results_all <- test_data %>%\n",
    "  mutate(\n",
    "    prediction = predict(lm_model_all, new_data = test_data) %>% pull(.pred),\n",
    "    truth = RENTED_BIKE_COUNT\n",
    "  ) %>%\n",
    "  select(truth, prediction)"
   ]
  },
  {
   "cell_type": "code",
   "execution_count": 21,
   "id": "92c1f7c4-83cc-4b7a-9aab-d93c1c1ac32f",
   "metadata": {},
   "outputs": [
    {
     "data": {
      "text/html": [
       "<table class=\"dataframe\">\n",
       "<caption>A tibble: 6 × 2</caption>\n",
       "<thead>\n",
       "\t<tr><th scope=col>truth</th><th scope=col>prediction</th></tr>\n",
       "\t<tr><th scope=col>&lt;dbl&gt;</th><th scope=col>&lt;dbl&gt;</th></tr>\n",
       "</thead>\n",
       "<tbody>\n",
       "\t<tr><td>100</td><td>317.54078</td></tr>\n",
       "\t<tr><td>181</td><td>321.34748</td></tr>\n",
       "\t<tr><td>360</td><td>593.09567</td></tr>\n",
       "\t<tr><td>555</td><td>351.27184</td></tr>\n",
       "\t<tr><td>600</td><td>138.78247</td></tr>\n",
       "\t<tr><td>405</td><td> 17.09947</td></tr>\n",
       "</tbody>\n",
       "</table>\n"
      ],
      "text/latex": [
       "A tibble: 6 × 2\n",
       "\\begin{tabular}{ll}\n",
       " truth & prediction\\\\\n",
       " <dbl> & <dbl>\\\\\n",
       "\\hline\n",
       "\t 100 & 317.54078\\\\\n",
       "\t 181 & 321.34748\\\\\n",
       "\t 360 & 593.09567\\\\\n",
       "\t 555 & 351.27184\\\\\n",
       "\t 600 & 138.78247\\\\\n",
       "\t 405 &  17.09947\\\\\n",
       "\\end{tabular}\n"
      ],
      "text/markdown": [
       "\n",
       "A tibble: 6 × 2\n",
       "\n",
       "| truth &lt;dbl&gt; | prediction &lt;dbl&gt; |\n",
       "|---|---|\n",
       "| 100 | 317.54078 |\n",
       "| 181 | 321.34748 |\n",
       "| 360 | 593.09567 |\n",
       "| 555 | 351.27184 |\n",
       "| 600 | 138.78247 |\n",
       "| 405 |  17.09947 |\n",
       "\n"
      ],
      "text/plain": [
       "  truth prediction\n",
       "1 100   317.54078 \n",
       "2 181   321.34748 \n",
       "3 360   593.09567 \n",
       "4 555   351.27184 \n",
       "5 600   138.78247 \n",
       "6 405    17.09947 "
      ]
     },
     "metadata": {},
     "output_type": "display_data"
    }
   ],
   "source": [
    "head(test_results_weather)"
   ]
  },
  {
   "cell_type": "code",
   "execution_count": 22,
   "id": "e40ccfae-242d-47d8-9088-49684fd5a162",
   "metadata": {},
   "outputs": [
    {
     "data": {
      "text/html": [
       "<table class=\"dataframe\">\n",
       "<caption>A tibble: 6 × 2</caption>\n",
       "<thead>\n",
       "\t<tr><th scope=col>truth</th><th scope=col>prediction</th></tr>\n",
       "\t<tr><th scope=col>&lt;dbl&gt;</th><th scope=col>&lt;dbl&gt;</th></tr>\n",
       "</thead>\n",
       "<tbody>\n",
       "\t<tr><td>100</td><td>-177.78433</td></tr>\n",
       "\t<tr><td>181</td><td> -12.96778</td></tr>\n",
       "\t<tr><td>360</td><td> 219.89217</td></tr>\n",
       "\t<tr><td>555</td><td> 532.01325</td></tr>\n",
       "\t<tr><td>600</td><td> 591.78714</td></tr>\n",
       "\t<tr><td>405</td><td> 459.85379</td></tr>\n",
       "</tbody>\n",
       "</table>\n"
      ],
      "text/latex": [
       "A tibble: 6 × 2\n",
       "\\begin{tabular}{ll}\n",
       " truth & prediction\\\\\n",
       " <dbl> & <dbl>\\\\\n",
       "\\hline\n",
       "\t 100 & -177.78433\\\\\n",
       "\t 181 &  -12.96778\\\\\n",
       "\t 360 &  219.89217\\\\\n",
       "\t 555 &  532.01325\\\\\n",
       "\t 600 &  591.78714\\\\\n",
       "\t 405 &  459.85379\\\\\n",
       "\\end{tabular}\n"
      ],
      "text/markdown": [
       "\n",
       "A tibble: 6 × 2\n",
       "\n",
       "| truth &lt;dbl&gt; | prediction &lt;dbl&gt; |\n",
       "|---|---|\n",
       "| 100 | -177.78433 |\n",
       "| 181 |  -12.96778 |\n",
       "| 360 |  219.89217 |\n",
       "| 555 |  532.01325 |\n",
       "| 600 |  591.78714 |\n",
       "| 405 |  459.85379 |\n",
       "\n"
      ],
      "text/plain": [
       "  truth prediction\n",
       "1 100   -177.78433\n",
       "2 181    -12.96778\n",
       "3 360    219.89217\n",
       "4 555    532.01325\n",
       "5 600    591.78714\n",
       "6 405    459.85379"
      ]
     },
     "metadata": {},
     "output_type": "display_data"
    }
   ],
   "source": [
    "head(test_results_all)"
   ]
  },
  {
   "cell_type": "code",
   "execution_count": 23,
   "id": "c21fd900-03b9-4c19-916a-8d5e1ae85197",
   "metadata": {},
   "outputs": [
    {
     "name": "stdout",
     "output_type": "stream",
     "text": [
      "\u001b[90m# A tibble: 1 × 3\u001b[39m\n",
      "  .metric .estimator .estimate\n",
      "  \u001b[3m\u001b[90m<chr>\u001b[39m\u001b[23m   \u001b[3m\u001b[90m<chr>\u001b[39m\u001b[23m          \u001b[3m\u001b[90m<dbl>\u001b[39m\u001b[23m\n",
      "\u001b[90m1\u001b[39m rsq     standard       0.439\n",
      "\u001b[90m# A tibble: 1 × 3\u001b[39m\n",
      "  .metric .estimator .estimate\n",
      "  \u001b[3m\u001b[90m<chr>\u001b[39m\u001b[23m   \u001b[3m\u001b[90m<chr>\u001b[39m\u001b[23m          \u001b[3m\u001b[90m<dbl>\u001b[39m\u001b[23m\n",
      "\u001b[90m1\u001b[39m rsq     standard       0.669\n",
      "\u001b[90m# A tibble: 1 × 3\u001b[39m\n",
      "  .metric .estimator .estimate\n",
      "  \u001b[3m\u001b[90m<chr>\u001b[39m\u001b[23m   \u001b[3m\u001b[90m<chr>\u001b[39m\u001b[23m          \u001b[3m\u001b[90m<dbl>\u001b[39m\u001b[23m\n",
      "\u001b[90m1\u001b[39m rmse    standard        475.\n",
      "\u001b[90m# A tibble: 1 × 3\u001b[39m\n",
      "  .metric .estimator .estimate\n",
      "  \u001b[3m\u001b[90m<chr>\u001b[39m\u001b[23m   \u001b[3m\u001b[90m<chr>\u001b[39m\u001b[23m          \u001b[3m\u001b[90m<dbl>\u001b[39m\u001b[23m\n",
      "\u001b[90m1\u001b[39m rmse    standard        364.\n"
     ]
    }
   ],
   "source": [
    "# Calculate R-squared\n",
    "rsq_weather <- rsq(test_results_weather, truth = truth, estimate = prediction)\n",
    "rsq_all     <- rsq(test_results_all, truth = truth, estimate = prediction)\n",
    "\n",
    "# Calculate RMSE\n",
    "rmse_weather <- rmse(test_results_weather, truth = truth, estimate = prediction)\n",
    "rmse_all     <- rmse(test_results_all, truth = truth, estimate = prediction)\n",
    "\n",
    "# Print results\n",
    "print(rsq_weather)\n",
    "print(rsq_all)\n",
    "print(rmse_weather)\n",
    "print(rmse_all)"
   ]
  },
  {
   "cell_type": "code",
   "execution_count": 24,
   "id": "ea22d44c-7504-4176-80bb-5ed3ca6666bc",
   "metadata": {},
   "outputs": [
    {
     "data": {
      "text/html": [
       "<style>\n",
       ".dl-inline {width: auto; margin:0; padding: 0}\n",
       ".dl-inline>dt, .dl-inline>dd {float: none; width: auto; display: inline-block}\n",
       ".dl-inline>dt::after {content: \":\\0020\"; padding-right: .5ex}\n",
       ".dl-inline>dt:not(:first-of-type) {padding-left: .5ex}\n",
       "</style><dl class=dl-inline><dt>(Intercept)</dt><dd>212.199462743948</dd><dt>TEMPERATURE</dt><dd>782.657870088779</dd><dt>HUMIDITY</dt><dd>-886.730277844366</dd><dt>WIND_SPEED</dt><dd>31.9129927279248</dd><dt>VISIBILITY</dt><dd>21.8716449661159</dd><dt>DEW_POINT_TEMPERATURE</dt><dd>598.387261041521</dd><dt>SOLAR_RADIATION</dt><dd>276.881652368232</dd><dt>RAINFALL</dt><dd>-2064.63754308305</dd><dt>SNOWFALL</dt><dd>260.973302878594</dd><dt>`0`</dt><dd>-29.2983361016151</dd><dt>`1`</dt><dd>-116.846747038286</dd><dt>`10`</dt><dd>-237.518201205112</dd><dt>`11`</dt><dd>-247.383413219391</dd><dt>`12`</dt><dd>-208.341330868408</dd><dt>`13`</dt><dd>-191.35422801414</dd><dt>`14`</dt><dd>-192.441682312031</dd><dt>`15`</dt><dd>-109.733640240687</dd><dt>`16`</dt><dd>23.1281636028416</dd><dt>`17`</dt><dd>305.547618249468</dd><dt>`18`</dt><dd>794.803151569958</dd><dt>`19`</dt><dd>522.988214834462</dd><dt>`2`</dt><dd>-237.211663999793</dd><dt>`20`</dt><dd>431.995237575419</dd><dt>`21`</dt><dd>446.58053357685</dd><dt>`22`</dt><dd>342.640919221768</dd><dt>`23`</dt><dd>103.808410131075</dd><dt>`3`</dt><dd>-319.871517124492</dd><dt>`4`</dt><dd>-386.292807947986</dd><dt>`5`</dt><dd>-362.720001875814</dd><dt>`6`</dt><dd>-204.118732579815</dd><dt>`7`</dt><dd>106.757133838753</dd><dt>`8`</dt><dd>450.977534093272</dd><dt>`9`</dt><dd>&lt;NA&gt;</dd><dt>AUTUMN</dt><dd>358.999443905866</dd><dt>SPRING</dt><dd>191.365267451115</dd><dt>SUMMER</dt><dd>198.142010192368</dd><dt>WINTER</dt><dd>&lt;NA&gt;</dd><dt>HOLIDAY</dt><dd>-124.423741444013</dd><dt>NO_HOLIDAY</dt><dd>&lt;NA&gt;</dd></dl>\n"
      ],
      "text/latex": [
       "\\begin{description*}\n",
       "\\item[(Intercept)] 212.199462743948\n",
       "\\item[TEMPERATURE] 782.657870088779\n",
       "\\item[HUMIDITY] -886.730277844366\n",
       "\\item[WIND\\textbackslash{}\\_SPEED] 31.9129927279248\n",
       "\\item[VISIBILITY] 21.8716449661159\n",
       "\\item[DEW\\textbackslash{}\\_POINT\\textbackslash{}\\_TEMPERATURE] 598.387261041521\n",
       "\\item[SOLAR\\textbackslash{}\\_RADIATION] 276.881652368232\n",
       "\\item[RAINFALL] -2064.63754308305\n",
       "\\item[SNOWFALL] 260.973302878594\n",
       "\\item[`0`] -29.2983361016151\n",
       "\\item[`1`] -116.846747038286\n",
       "\\item[`10`] -237.518201205112\n",
       "\\item[`11`] -247.383413219391\n",
       "\\item[`12`] -208.341330868408\n",
       "\\item[`13`] -191.35422801414\n",
       "\\item[`14`] -192.441682312031\n",
       "\\item[`15`] -109.733640240687\n",
       "\\item[`16`] 23.1281636028416\n",
       "\\item[`17`] 305.547618249468\n",
       "\\item[`18`] 794.803151569958\n",
       "\\item[`19`] 522.988214834462\n",
       "\\item[`2`] -237.211663999793\n",
       "\\item[`20`] 431.995237575419\n",
       "\\item[`21`] 446.58053357685\n",
       "\\item[`22`] 342.640919221768\n",
       "\\item[`23`] 103.808410131075\n",
       "\\item[`3`] -319.871517124492\n",
       "\\item[`4`] -386.292807947986\n",
       "\\item[`5`] -362.720001875814\n",
       "\\item[`6`] -204.118732579815\n",
       "\\item[`7`] 106.757133838753\n",
       "\\item[`8`] 450.977534093272\n",
       "\\item[`9`] <NA>\n",
       "\\item[AUTUMN] 358.999443905866\n",
       "\\item[SPRING] 191.365267451115\n",
       "\\item[SUMMER] 198.142010192368\n",
       "\\item[WINTER] <NA>\n",
       "\\item[HOLIDAY] -124.423741444013\n",
       "\\item[NO\\textbackslash{}\\_HOLIDAY] <NA>\n",
       "\\end{description*}\n"
      ],
      "text/markdown": [
       "(Intercept)\n",
       ":   212.199462743948TEMPERATURE\n",
       ":   782.657870088779HUMIDITY\n",
       ":   -886.730277844366WIND_SPEED\n",
       ":   31.9129927279248VISIBILITY\n",
       ":   21.8716449661159DEW_POINT_TEMPERATURE\n",
       ":   598.387261041521SOLAR_RADIATION\n",
       ":   276.881652368232RAINFALL\n",
       ":   -2064.63754308305SNOWFALL\n",
       ":   260.973302878594`0`\n",
       ":   -29.2983361016151`1`\n",
       ":   -116.846747038286`10`\n",
       ":   -237.518201205112`11`\n",
       ":   -247.383413219391`12`\n",
       ":   -208.341330868408`13`\n",
       ":   -191.35422801414`14`\n",
       ":   -192.441682312031`15`\n",
       ":   -109.733640240687`16`\n",
       ":   23.1281636028416`17`\n",
       ":   305.547618249468`18`\n",
       ":   794.803151569958`19`\n",
       ":   522.988214834462`2`\n",
       ":   -237.211663999793`20`\n",
       ":   431.995237575419`21`\n",
       ":   446.58053357685`22`\n",
       ":   342.640919221768`23`\n",
       ":   103.808410131075`3`\n",
       ":   -319.871517124492`4`\n",
       ":   -386.292807947986`5`\n",
       ":   -362.720001875814`6`\n",
       ":   -204.118732579815`7`\n",
       ":   106.757133838753`8`\n",
       ":   450.977534093272`9`\n",
       ":   &lt;NA&gt;AUTUMN\n",
       ":   358.999443905866SPRING\n",
       ":   191.365267451115SUMMER\n",
       ":   198.142010192368WINTER\n",
       ":   &lt;NA&gt;HOLIDAY\n",
       ":   -124.423741444013NO_HOLIDAY\n",
       ":   &lt;NA&gt;\n",
       "\n"
      ],
      "text/plain": [
       "          (Intercept)           TEMPERATURE              HUMIDITY \n",
       "            212.19946             782.65787            -886.73028 \n",
       "           WIND_SPEED            VISIBILITY DEW_POINT_TEMPERATURE \n",
       "             31.91299              21.87164             598.38726 \n",
       "      SOLAR_RADIATION              RAINFALL              SNOWFALL \n",
       "            276.88165           -2064.63754             260.97330 \n",
       "                  `0`                   `1`                  `10` \n",
       "            -29.29834            -116.84675            -237.51820 \n",
       "                 `11`                  `12`                  `13` \n",
       "           -247.38341            -208.34133            -191.35423 \n",
       "                 `14`                  `15`                  `16` \n",
       "           -192.44168            -109.73364              23.12816 \n",
       "                 `17`                  `18`                  `19` \n",
       "            305.54762             794.80315             522.98821 \n",
       "                  `2`                  `20`                  `21` \n",
       "           -237.21166             431.99524             446.58053 \n",
       "                 `22`                  `23`                   `3` \n",
       "            342.64092             103.80841            -319.87152 \n",
       "                  `4`                   `5`                   `6` \n",
       "           -386.29281            -362.72000            -204.11873 \n",
       "                  `7`                   `8`                   `9` \n",
       "            106.75713             450.97753                    NA \n",
       "               AUTUMN                SPRING                SUMMER \n",
       "            358.99944             191.36527             198.14201 \n",
       "               WINTER               HOLIDAY            NO_HOLIDAY \n",
       "                   NA            -124.42374                    NA "
      ]
     },
     "metadata": {},
     "output_type": "display_data"
    }
   ],
   "source": [
    "lm_model_all$fit$coefficients"
   ]
  },
  {
   "cell_type": "code",
   "execution_count": 25,
   "id": "ed1c1453-8c63-4e26-b4da-0850d81bcd86",
   "metadata": {},
   "outputs": [
    {
     "name": "stderr",
     "output_type": "stream",
     "text": [
      "Warning message:\n",
      "“\u001b[1m\u001b[22mRemoved 3 rows containing missing values or values outside the scale range\n",
      "(`geom_bar()`).”\n"
     ]
    },
    {
     "data": {
      "image/png": "[encoded data removed]",
      "text/plain": [
       "plot without title"
      ]
     },
     "metadata": {
      "image/png": {
       "height": 420,
       "width": 420
      }
     },
     "output_type": "display_data"
    }
   ],
   "source": [
    "# Extract tidy coefficients\n",
    "coef_df <- broom::tidy(lm_model_all$fit) %>%\n",
    "  filter(term != \"(Intercept)\") %>%                  # exclude intercept\n",
    "  mutate(abs_estimate = abs(estimate)) %>%          # add absolute value for sorting\n",
    "  arrange(desc(abs_estimate))                         # sort descending by abs value\n",
    "\n",
    "# Plot sorted coefficients\n",
    "ggplot(coef_df, aes(x = reorder(term, abs_estimate), y = estimate)) +\n",
    "  geom_bar(stat = \"identity\", fill = \"steelblue\") +\n",
    "  coord_flip() +                                     # flip for easier reading\n",
    "  labs(title = \"Coefficients from lm_model_all\",\n",
    "       x = \"Predictor Variable\",\n",
    "       y = \"Coefficient Estimate\") +\n",
    "  theme_minimal()"
   ]
  },
  {
   "cell_type": "code",
   "execution_count": null,
   "id": "60512f67-b9a7-4db6-b65c-3101fb859a1e",
   "metadata": {},
   "outputs": [],
   "source": []
  }
 ],
 "metadata": {
  "kernelspec": {
   "display_name": "R",
   "language": "R",
   "name": "ir"
  },
  "language_info": {
   "codemirror_mode": "r",
   "file_extension": ".r",
   "mimetype": "text/x-r-source",
   "name": "R",
   "pygments_lexer": "r",
   "version": "4.4.3"
  }
 },
 "nbformat": 4,
 "nbformat_minor": 5
}
